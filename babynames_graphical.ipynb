{
 "cells": [
  {
   "cell_type": "markdown",
   "metadata": {},
   "source": [
    "**<u>Analyzing A Baby Names Dataset In R - A Graphical Approach</u>**\n",
    "\n",
    "Hi there. This page looks at the `babynames` dataset but from a graphical approach. "
   ]
  },
  {
   "cell_type": "markdown",
   "metadata": {},
   "source": [
    "**<u>Table Of Contents</u>**\n",
    "\n",
    "\n",
    "* The babynames Dataset\n",
    "\n",
    "* Preparing The Data For Graphing\n",
    "\n",
    "* Finding The Top 20 Baby Names\n",
    "\n",
    "* The 20 Most Popular Male Baby Names\n",
    "\n",
    "* The 20 Most Popular Female Baby Names\n",
    "\n",
    "* Notes & References"
   ]
  },
  {
   "cell_type": "markdown",
   "metadata": {},
   "source": [
    "**<u>The babynames Dataset</u>**\n",
    "\n",
    "There is a large dataset which contains babynames and their counts. It is called babynames in the babynames library in R. The R documentation screenshot image below shows some details about the data. (I do not know what SSA means.)\n",
    "\n",
    "\n",
    "\n",
    "In R, load the babynames, ggplot2 and data.table packages using the `library()` function."
   ]
  },
  {
   "cell_type": "code",
   "execution_count": 3,
   "metadata": {},
   "outputs": [
    {
     "name": "stderr",
     "output_type": "stream",
     "text": [
      "Warning message:\n",
      "\"package 'babynames' was built under R version 3.4.2\""
     ]
    }
   ],
   "source": [
    "# Sideways Bar Graph\n",
    "# Analyzing Baby Names Part 2:\n",
    "# A Bar Graph Approach\n",
    "\n",
    "\n",
    "library(babynames) # Baby Names dataset:\n",
    "library(ggplot2) # Data visualization\n",
    "library(data.table) # For data wrangling and manipulation"
   ]
  },
  {
   "cell_type": "markdown",
   "metadata": {},
   "source": [
    "In the babynames library, the dataset babynames contains the most popular baby names."
   ]
  },
  {
   "cell_type": "code",
   "execution_count": 4,
   "metadata": {},
   "outputs": [
    {
     "data": {
      "text/html": [
       "<table>\n",
       "<thead><tr><th scope=col>year</th><th scope=col>sex</th><th scope=col>name</th><th scope=col>n</th><th scope=col>prop</th></tr></thead>\n",
       "<tbody>\n",
       "\t<tr><td>1880      </td><td>F         </td><td>Mary      </td><td>7065      </td><td>0.07238433</td></tr>\n",
       "\t<tr><td>1880      </td><td>F         </td><td>Anna      </td><td>2604      </td><td>0.02667923</td></tr>\n",
       "\t<tr><td>1880      </td><td>F         </td><td>Emma      </td><td>2003      </td><td>0.02052170</td></tr>\n",
       "\t<tr><td>1880      </td><td>F         </td><td>Elizabeth </td><td>1939      </td><td>0.01986599</td></tr>\n",
       "\t<tr><td>1880      </td><td>F         </td><td>Minnie    </td><td>1746      </td><td>0.01788861</td></tr>\n",
       "\t<tr><td>1880      </td><td>F         </td><td>Margaret  </td><td>1578      </td><td>0.01616737</td></tr>\n",
       "</tbody>\n",
       "</table>\n"
      ],
      "text/latex": [
       "\\begin{tabular}{r|lllll}\n",
       " year & sex & name & n & prop\\\\\n",
       "\\hline\n",
       "\t 1880       & F          & Mary       & 7065       & 0.07238433\\\\\n",
       "\t 1880       & F          & Anna       & 2604       & 0.02667923\\\\\n",
       "\t 1880       & F          & Emma       & 2003       & 0.02052170\\\\\n",
       "\t 1880       & F          & Elizabeth  & 1939       & 0.01986599\\\\\n",
       "\t 1880       & F          & Minnie     & 1746       & 0.01788861\\\\\n",
       "\t 1880       & F          & Margaret   & 1578       & 0.01616737\\\\\n",
       "\\end{tabular}\n"
      ],
      "text/markdown": [
       "\n",
       "year | sex | name | n | prop | \n",
       "|---|---|---|---|---|---|\n",
       "| 1880       | F          | Mary       | 7065       | 0.07238433 | \n",
       "| 1880       | F          | Anna       | 2604       | 0.02667923 | \n",
       "| 1880       | F          | Emma       | 2003       | 0.02052170 | \n",
       "| 1880       | F          | Elizabeth  | 1939       | 0.01986599 | \n",
       "| 1880       | F          | Minnie     | 1746       | 0.01788861 | \n",
       "| 1880       | F          | Margaret   | 1578       | 0.01616737 | \n",
       "\n",
       "\n"
      ],
      "text/plain": [
       "  year sex name      n    prop      \n",
       "1 1880 F   Mary      7065 0.07238433\n",
       "2 1880 F   Anna      2604 0.02667923\n",
       "3 1880 F   Emma      2003 0.02052170\n",
       "4 1880 F   Elizabeth 1939 0.01986599\n",
       "5 1880 F   Minnie    1746 0.01788861\n",
       "6 1880 F   Margaret  1578 0.01616737"
      ]
     },
     "metadata": {},
     "output_type": "display_data"
    },
    {
     "data": {
      "text/html": [
       "<table>\n",
       "<thead><tr><th scope=col>year</th><th scope=col>sex</th><th scope=col>name</th><th scope=col>n</th><th scope=col>prop</th></tr></thead>\n",
       "<tbody>\n",
       "\t<tr><td>2015        </td><td>M           </td><td>Zyah        </td><td>5           </td><td>2.466855e-06</td></tr>\n",
       "\t<tr><td>2015        </td><td>M           </td><td>Zykell      </td><td>5           </td><td>2.466855e-06</td></tr>\n",
       "\t<tr><td>2015        </td><td>M           </td><td>Zyking      </td><td>5           </td><td>2.466855e-06</td></tr>\n",
       "\t<tr><td>2015        </td><td>M           </td><td>Zykir       </td><td>5           </td><td>2.466855e-06</td></tr>\n",
       "\t<tr><td>2015        </td><td>M           </td><td>Zyrus       </td><td>5           </td><td>2.466855e-06</td></tr>\n",
       "\t<tr><td>2015        </td><td>M           </td><td>Zyus        </td><td>5           </td><td>2.466855e-06</td></tr>\n",
       "</tbody>\n",
       "</table>\n"
      ],
      "text/latex": [
       "\\begin{tabular}{r|lllll}\n",
       " year & sex & name & n & prop\\\\\n",
       "\\hline\n",
       "\t 2015         & M            & Zyah         & 5            & 2.466855e-06\\\\\n",
       "\t 2015         & M            & Zykell       & 5            & 2.466855e-06\\\\\n",
       "\t 2015         & M            & Zyking       & 5            & 2.466855e-06\\\\\n",
       "\t 2015         & M            & Zykir        & 5            & 2.466855e-06\\\\\n",
       "\t 2015         & M            & Zyrus        & 5            & 2.466855e-06\\\\\n",
       "\t 2015         & M            & Zyus         & 5            & 2.466855e-06\\\\\n",
       "\\end{tabular}\n"
      ],
      "text/markdown": [
       "\n",
       "year | sex | name | n | prop | \n",
       "|---|---|---|---|---|---|\n",
       "| 2015         | M            | Zyah         | 5            | 2.466855e-06 | \n",
       "| 2015         | M            | Zykell       | 5            | 2.466855e-06 | \n",
       "| 2015         | M            | Zyking       | 5            | 2.466855e-06 | \n",
       "| 2015         | M            | Zykir        | 5            | 2.466855e-06 | \n",
       "| 2015         | M            | Zyrus        | 5            | 2.466855e-06 | \n",
       "| 2015         | M            | Zyus         | 5            | 2.466855e-06 | \n",
       "\n",
       "\n"
      ],
      "text/plain": [
       "  year sex name   n prop        \n",
       "1 2015 M   Zyah   5 2.466855e-06\n",
       "2 2015 M   Zykell 5 2.466855e-06\n",
       "3 2015 M   Zyking 5 2.466855e-06\n",
       "4 2015 M   Zykir  5 2.466855e-06\n",
       "5 2015 M   Zyrus  5 2.466855e-06\n",
       "6 2015 M   Zyus   5 2.466855e-06"
      ]
     },
     "metadata": {},
     "output_type": "display_data"
    }
   ],
   "source": [
    "# Save the babynames data into baby_data:\n",
    "\n",
    "baby_data <- data.table(babynames)\n",
    "\n",
    "# Preview the data:\n",
    "\n",
    "head(baby_data)\n",
    "\n",
    "tail(baby_data)\n",
    "\n"
   ]
  },
  {
   "cell_type": "markdown",
   "metadata": {},
   "source": [
    "It appears that the dataset has data on baby names from 1880 to 2014. (It is uncertain if this data is 100% accurate. We go with what we have.)\n",
    "\n",
    "The structure of the dataset can be examined using `str()`."
   ]
  },
  {
   "cell_type": "code",
   "execution_count": 5,
   "metadata": {},
   "outputs": [
    {
     "name": "stdout",
     "output_type": "stream",
     "text": [
      "Classes 'data.table' and 'data.frame':\t1858689 obs. of  5 variables:\n",
      " $ year: num  1880 1880 1880 1880 1880 1880 1880 1880 1880 1880 ...\n",
      " $ sex : chr  \"F\" \"F\" \"F\" \"F\" ...\n",
      " $ name: chr  \"Mary\" \"Anna\" \"Emma\" \"Elizabeth\" ...\n",
      " $ n   : int  7065 2604 2003 1939 1746 1578 1472 1414 1320 1288 ...\n",
      " $ prop: num  0.0724 0.0267 0.0205 0.0199 0.0179 ...\n",
      " - attr(*, \".internal.selfref\")=<externalptr> \n"
     ]
    }
   ],
   "source": [
    "# Structure of data:\n",
    "\n",
    "str(baby_data)"
   ]
  },
  {
   "cell_type": "markdown",
   "metadata": {},
   "source": [
    "The output from `str(baby_data)` tells us that this large dataset has 1,825,433 rows and 5 columns."
   ]
  },
  {
   "cell_type": "markdown",
   "metadata": {},
   "source": [
    "**<u>Preparing The Data For Graphing</u>**\n",
    "\n",
    "The current column names are not the best. The column names can be changed by using `colnames()` in R."
   ]
  },
  {
   "cell_type": "code",
   "execution_count": 6,
   "metadata": {
    "collapsed": true
   },
   "outputs": [],
   "source": [
    "# Change column names:\n",
    "\n",
    "colnames(baby_data) <- c(\"Year\", \"Sex\", \"Name\", \"Count\", \"Proportion\")"
   ]
  },
  {
   "cell_type": "markdown",
   "metadata": {},
   "source": [
    "Using the features from the `data.table` library in R, the baby names in the dataset are sorted by Name and their Counts are added by name.\n",
    "\n",
    "The line `sorted_names[order(-Name.Count)]` will then order the name and its count in descending order (most popular to least popular)."
   ]
  },
  {
   "cell_type": "code",
   "execution_count": 7,
   "metadata": {},
   "outputs": [
    {
     "data": {
      "text/html": [
       "<table>\n",
       "<thead><tr><th scope=col>Name</th><th scope=col>Name.Count</th></tr></thead>\n",
       "<tbody>\n",
       "\t<tr><td>James      </td><td>5144205    </td></tr>\n",
       "\t<tr><td>John       </td><td>5117331    </td></tr>\n",
       "\t<tr><td>Robert     </td><td>4823167    </td></tr>\n",
       "\t<tr><td>Michael    </td><td>4345569    </td></tr>\n",
       "\t<tr><td>Mary       </td><td>4133216    </td></tr>\n",
       "\t<tr><td>William    </td><td>4087556    </td></tr>\n",
       "\t<tr><td>David      </td><td>3602623    </td></tr>\n",
       "\t<tr><td>Joseph     </td><td>2592388    </td></tr>\n",
       "\t<tr><td>Richard    </td><td>2567700    </td></tr>\n",
       "\t<tr><td>Charles    </td><td>2383998    </td></tr>\n",
       "\t<tr><td>Thomas     </td><td>2298810    </td></tr>\n",
       "\t<tr><td>Christopher</td><td>2014117    </td></tr>\n",
       "\t<tr><td>Daniel     </td><td>1890558    </td></tr>\n",
       "\t<tr><td>Elizabeth  </td><td>1616108    </td></tr>\n",
       "\t<tr><td>Patricia   </td><td>1575916    </td></tr>\n",
       "\t<tr><td>Matthew    </td><td>1571511    </td></tr>\n",
       "\t<tr><td>Jennifer   </td><td>1468898    </td></tr>\n",
       "\t<tr><td>George     </td><td>1467573    </td></tr>\n",
       "\t<tr><td>Linda      </td><td>1455087    </td></tr>\n",
       "\t<tr><td>Barbara    </td><td>1437476    </td></tr>\n",
       "</tbody>\n",
       "</table>\n"
      ],
      "text/latex": [
       "\\begin{tabular}{r|ll}\n",
       " Name & Name.Count\\\\\n",
       "\\hline\n",
       "\t James       & 5144205    \\\\\n",
       "\t John        & 5117331    \\\\\n",
       "\t Robert      & 4823167    \\\\\n",
       "\t Michael     & 4345569    \\\\\n",
       "\t Mary        & 4133216    \\\\\n",
       "\t William     & 4087556    \\\\\n",
       "\t David       & 3602623    \\\\\n",
       "\t Joseph      & 2592388    \\\\\n",
       "\t Richard     & 2567700    \\\\\n",
       "\t Charles     & 2383998    \\\\\n",
       "\t Thomas      & 2298810    \\\\\n",
       "\t Christopher & 2014117    \\\\\n",
       "\t Daniel      & 1890558    \\\\\n",
       "\t Elizabeth   & 1616108    \\\\\n",
       "\t Patricia    & 1575916    \\\\\n",
       "\t Matthew     & 1571511    \\\\\n",
       "\t Jennifer    & 1468898    \\\\\n",
       "\t George      & 1467573    \\\\\n",
       "\t Linda       & 1455087    \\\\\n",
       "\t Barbara     & 1437476    \\\\\n",
       "\\end{tabular}\n"
      ],
      "text/markdown": [
       "\n",
       "Name | Name.Count | \n",
       "|---|---|---|---|---|---|---|---|---|---|---|---|---|---|---|---|---|---|---|---|\n",
       "| James       | 5144205     | \n",
       "| John        | 5117331     | \n",
       "| Robert      | 4823167     | \n",
       "| Michael     | 4345569     | \n",
       "| Mary        | 4133216     | \n",
       "| William     | 4087556     | \n",
       "| David       | 3602623     | \n",
       "| Joseph      | 2592388     | \n",
       "| Richard     | 2567700     | \n",
       "| Charles     | 2383998     | \n",
       "| Thomas      | 2298810     | \n",
       "| Christopher | 2014117     | \n",
       "| Daniel      | 1890558     | \n",
       "| Elizabeth   | 1616108     | \n",
       "| Patricia    | 1575916     | \n",
       "| Matthew     | 1571511     | \n",
       "| Jennifer    | 1468898     | \n",
       "| George      | 1467573     | \n",
       "| Linda       | 1455087     | \n",
       "| Barbara     | 1437476     | \n",
       "\n",
       "\n"
      ],
      "text/plain": [
       "   Name        Name.Count\n",
       "1  James       5144205   \n",
       "2  John        5117331   \n",
       "3  Robert      4823167   \n",
       "4  Michael     4345569   \n",
       "5  Mary        4133216   \n",
       "6  William     4087556   \n",
       "7  David       3602623   \n",
       "8  Joseph      2592388   \n",
       "9  Richard     2567700   \n",
       "10 Charles     2383998   \n",
       "11 Thomas      2298810   \n",
       "12 Christopher 2014117   \n",
       "13 Daniel      1890558   \n",
       "14 Elizabeth   1616108   \n",
       "15 Patricia    1575916   \n",
       "16 Matthew     1571511   \n",
       "17 Jennifer    1468898   \n",
       "18 George      1467573   \n",
       "19 Linda       1455087   \n",
       "20 Barbara     1437476   "
      ]
     },
     "metadata": {},
     "output_type": "display_data"
    }
   ],
   "source": [
    "## Finding The Top 20 Baby Names:\n",
    "\n",
    "# Sort names from most popular to least popular (adds duplicates too):\n",
    "\n",
    "sorted_names <- baby_data[ , .(Name.Count = sum(Count)), by = Name]\n",
    "sorted_names <- sorted_names[order(-Name.Count)]\n",
    "\n",
    "# Preview: \n",
    "head(sorted_names, n = 20)\n",
    " \n"
   ]
  },
  {
   "cell_type": "markdown",
   "metadata": {},
   "source": [
    "Since I want the the 20 most popular baby names, I take the 20 rows from sorted_names and name it a new variable."
   ]
  },
  {
   "cell_type": "code",
   "execution_count": 9,
   "metadata": {},
   "outputs": [
    {
     "data": {
      "text/html": [
       "<table>\n",
       "<thead><tr><th scope=col>Name</th><th scope=col>Name.Count</th></tr></thead>\n",
       "<tbody>\n",
       "\t<tr><td>James      </td><td>5144205    </td></tr>\n",
       "\t<tr><td>John       </td><td>5117331    </td></tr>\n",
       "\t<tr><td>Robert     </td><td>4823167    </td></tr>\n",
       "\t<tr><td>Michael    </td><td>4345569    </td></tr>\n",
       "\t<tr><td>Mary       </td><td>4133216    </td></tr>\n",
       "\t<tr><td>William    </td><td>4087556    </td></tr>\n",
       "\t<tr><td>David      </td><td>3602623    </td></tr>\n",
       "\t<tr><td>Joseph     </td><td>2592388    </td></tr>\n",
       "\t<tr><td>Richard    </td><td>2567700    </td></tr>\n",
       "\t<tr><td>Charles    </td><td>2383998    </td></tr>\n",
       "\t<tr><td>Thomas     </td><td>2298810    </td></tr>\n",
       "\t<tr><td>Christopher</td><td>2014117    </td></tr>\n",
       "\t<tr><td>Daniel     </td><td>1890558    </td></tr>\n",
       "\t<tr><td>Elizabeth  </td><td>1616108    </td></tr>\n",
       "\t<tr><td>Patricia   </td><td>1575916    </td></tr>\n",
       "\t<tr><td>Matthew    </td><td>1571511    </td></tr>\n",
       "\t<tr><td>Jennifer   </td><td>1468898    </td></tr>\n",
       "\t<tr><td>George     </td><td>1467573    </td></tr>\n",
       "\t<tr><td>Linda      </td><td>1455087    </td></tr>\n",
       "\t<tr><td>Barbara    </td><td>1437476    </td></tr>\n",
       "</tbody>\n",
       "</table>\n"
      ],
      "text/latex": [
       "\\begin{tabular}{r|ll}\n",
       " Name & Name.Count\\\\\n",
       "\\hline\n",
       "\t James       & 5144205    \\\\\n",
       "\t John        & 5117331    \\\\\n",
       "\t Robert      & 4823167    \\\\\n",
       "\t Michael     & 4345569    \\\\\n",
       "\t Mary        & 4133216    \\\\\n",
       "\t William     & 4087556    \\\\\n",
       "\t David       & 3602623    \\\\\n",
       "\t Joseph      & 2592388    \\\\\n",
       "\t Richard     & 2567700    \\\\\n",
       "\t Charles     & 2383998    \\\\\n",
       "\t Thomas      & 2298810    \\\\\n",
       "\t Christopher & 2014117    \\\\\n",
       "\t Daniel      & 1890558    \\\\\n",
       "\t Elizabeth   & 1616108    \\\\\n",
       "\t Patricia    & 1575916    \\\\\n",
       "\t Matthew     & 1571511    \\\\\n",
       "\t Jennifer    & 1468898    \\\\\n",
       "\t George      & 1467573    \\\\\n",
       "\t Linda       & 1455087    \\\\\n",
       "\t Barbara     & 1437476    \\\\\n",
       "\\end{tabular}\n"
      ],
      "text/markdown": [
       "\n",
       "Name | Name.Count | \n",
       "|---|---|---|---|---|---|---|---|---|---|---|---|---|---|---|---|---|---|---|---|\n",
       "| James       | 5144205     | \n",
       "| John        | 5117331     | \n",
       "| Robert      | 4823167     | \n",
       "| Michael     | 4345569     | \n",
       "| Mary        | 4133216     | \n",
       "| William     | 4087556     | \n",
       "| David       | 3602623     | \n",
       "| Joseph      | 2592388     | \n",
       "| Richard     | 2567700     | \n",
       "| Charles     | 2383998     | \n",
       "| Thomas      | 2298810     | \n",
       "| Christopher | 2014117     | \n",
       "| Daniel      | 1890558     | \n",
       "| Elizabeth   | 1616108     | \n",
       "| Patricia    | 1575916     | \n",
       "| Matthew     | 1571511     | \n",
       "| Jennifer    | 1468898     | \n",
       "| George      | 1467573     | \n",
       "| Linda       | 1455087     | \n",
       "| Barbara     | 1437476     | \n",
       "\n",
       "\n"
      ],
      "text/plain": [
       "   Name        Name.Count\n",
       "1  James       5144205   \n",
       "2  John        5117331   \n",
       "3  Robert      4823167   \n",
       "4  Michael     4345569   \n",
       "5  Mary        4133216   \n",
       "6  William     4087556   \n",
       "7  David       3602623   \n",
       "8  Joseph      2592388   \n",
       "9  Richard     2567700   \n",
       "10 Charles     2383998   \n",
       "11 Thomas      2298810   \n",
       "12 Christopher 2014117   \n",
       "13 Daniel      1890558   \n",
       "14 Elizabeth   1616108   \n",
       "15 Patricia    1575916   \n",
       "16 Matthew     1571511   \n",
       "17 Jennifer    1468898   \n",
       "18 George      1467573   \n",
       "19 Linda       1455087   \n",
       "20 Barbara     1437476   "
      ]
     },
     "metadata": {},
     "output_type": "display_data"
    }
   ],
   "source": [
    "top_twenty_babynames <- sorted_names[1:20, ]\n",
    "\n",
    "# Preview: \n",
    "top_twenty_babynames\n"
   ]
  },
  {
   "cell_type": "markdown",
   "metadata": {},
   "source": [
    "**<u>Finding The Top 20 Baby Names</u>**\n",
    "\n",
    "<u>Some Initial Bar Graphs</u>\n",
    "\n",
    "The data is now formatted for creating bar graphs using ggplot2. Here is a first attempt at a bar graph."
   ]
  },
  {
   "cell_type": "code",
   "execution_count": 10,
   "metadata": {},
   "outputs": [
    {
     "data": {},
     "metadata": {},
     "output_type": "display_data"
    },
    {
     "data": {
      "image/png": "[encoded data removed]",
      "text/plain": [
       "plot without title"
      ]
     },
     "metadata": {},
     "output_type": "display_data"
    }
   ],
   "source": [
    "# Ggplot Bar Graph:\n",
    "\n",
    "ggplot(top_twenty_babynames, aes(x = Name, y = Name.Count)) + \n",
    "  geom_bar(stat = \"identity\") +\n",
    "  labs(x = \"Name \\n\", y = \"\\n Count \\n\", title = \"Top 20 Baby Names\") + \n",
    "  theme(plot.title = element_text(hjust = 0.5), \n",
    "        axis.title.x = element_text(face=\"bold\", colour=\"#FF7A33\", size = 12, vjust = 1),\n",
    "        axis.title.y = element_text(face=\"bold\", colour=\"#FF7A33\", size = 12),\n",
    "        axis.text.x = element_text(angle = 90, vjust = 0.1, hjust = 0.1),\n",
    "        legend.title = element_text(face=\"bold\", size = 10))"
   ]
  },
  {
   "cell_type": "markdown",
   "metadata": {},
   "source": [
    "This bar graph looks okay for the most part. However, the counts are in scientific notation and the names are somewhat hard to read as you may need to tilt your head.\n",
    "\n",
    "\n",
    "\n",
    "This next attempt at a bar graph that I tried has the bars sideways."
   ]
  },
  {
   "cell_type": "code",
   "execution_count": 11,
   "metadata": {},
   "outputs": [
    {
     "data": {},
     "metadata": {},
     "output_type": "display_data"
    },
    {
     "data": {
      "image/png": "[encoded data removed]",
      "text/plain": [
       "plot without title"
      ]
     },
     "metadata": {},
     "output_type": "display_data"
    }
   ],
   "source": [
    "# Ggplot Sideways Bar Graph:\n",
    "\n",
    "ggplot(top_twenty_babynames, aes(x = Name, y = Name.Count)) + \n",
    "  geom_bar(stat = \"identity\") + coord_flip() +\n",
    "  labs(x = \"Name \\n\", y = \"\\n Count \\n\", title = \"Top 20 Baby Names\") + \n",
    "  theme(plot.title = element_text(hjust = 0.5), \n",
    "        axis.title.x = element_text(face=\"bold\", colour=\"#FF7A33\", size = 12, vjust = 1),\n",
    "        axis.title.y = element_text(face=\"bold\", colour=\"#FF7A33\", size = 12),\n",
    "        axis.text.x = element_text(angle = 90, vjust = 0.1, hjust = 0.1),\n",
    "        legend.title = element_text(face=\"bold\", size = 10))"
   ]
  },
  {
   "cell_type": "markdown",
   "metadata": {},
   "source": [
    "This bar graph looks a little bit better but the counts are off and could use some scaling."
   ]
  },
  {
   "cell_type": "code",
   "execution_count": 12,
   "metadata": {},
   "outputs": [
    {
     "data": {},
     "metadata": {},
     "output_type": "display_data"
    },
    {
     "data": {
      "image/png": "[encoded data removed]",
      "text/plain": [
       "plot without title"
      ]
     },
     "metadata": {},
     "output_type": "display_data"
    }
   ],
   "source": [
    "# Ggplot Sideways Bar Graph (Scaled):\n",
    "\n",
    "ggplot(top_twenty_babynames, aes(x = Name, y = Name.Count/1000000)) + \n",
    "  geom_bar(stat = \"identity\") + coord_flip() +\n",
    "  scale_y_continuous(breaks=seq(0, 6, 1)) +\n",
    "  labs(x = \"Name \\n\", y = \"\\n Count (Millions) \\n\", title = \"Top 20 Baby Names\") + \n",
    "  theme(plot.title = element_text(hjust = 0.5), \n",
    "        axis.title.x = element_text(face=\"bold\", colour=\"#FF7A33\", size = 12, vjust = 1),\n",
    "        axis.title.y = element_text(face=\"bold\", colour=\"#FF7A33\", size = 12),\n",
    "        axis.text.x = element_text(vjust = 0.1, hjust = 0.1),\n",
    "        legend.title = element_text(face=\"bold\", size = 10))"
   ]
  },
  {
   "cell_type": "markdown",
   "metadata": {},
   "source": [
    "<u>An Updated Version Of The Bar Graph</u>\n",
    "\n",
    "This updated version of the bar graph has the bars sorted from most popular baby name to the 20th most popular baby name. These bars also have labeled counts which eliminates the guess work. Here is the code and output for it."
   ]
  },
  {
   "cell_type": "code",
   "execution_count": 13,
   "metadata": {},
   "outputs": [
    {
     "data": {},
     "metadata": {},
     "output_type": "display_data"
    },
    {
     "data": {
      "image/png": "[encoded data removed]",
      "text/plain": [
       "plot without title"
      ]
     },
     "metadata": {},
     "output_type": "display_data"
    }
   ],
   "source": [
    "# We have the sorted top 20 baby names but ggplot would not recognize this \n",
    "# ordering.\n",
    "# To have ggplot recognize this ordering, we have these 20 names\n",
    "# as factors in the order of the most popular female\n",
    "# name to the 20th most popular female name\n",
    "# http://rstudio-pubs-static.s3.amazonaws.com/7433_4537ea5073dc4162950abb715f513469.html\n",
    "\n",
    "top_twenty_babynames$Name <- factor(top_twenty_babynames$Name, \n",
    "                           levels = top_twenty_babynames$Name[order(top_twenty_babynames$Name.Count)]) \n",
    "\n",
    "# Ggplot Sideways Bar Graph (Fixed & Sorted):\n",
    "\n",
    "ggplot(top_twenty_babynames, aes(x = Name, y = Name.Count/1000000)) + \n",
    " geom_bar(stat = \"identity\") + coord_flip() +\n",
    " scale_y_continuous(breaks=seq(0, 6, 1)) + \n",
    " geom_text(aes(label = round(Name.Count/1000000, 3)), hjust = 1.2, colour = \"white\", fontface = \"bold\") +\n",
    " labs(x = \"Name \\n\", y = \"\\n Count (Millions) \\n\", title = \"The Twenty Most Popular Baby Names\") + \n",
    " theme(plot.title = element_text(hjust = 0.5), \n",
    " axis.title.x = element_text(face=\"bold\", colour=\"#FF7A33\", size = 12, vjust = 1),\n",
    " axis.title.y = element_text(face=\"bold\", colour=\"#FF7A33\", size = 12),\n",
    " axis.text.x = element_text(vjust = 0.1, hjust = 0.1),\n",
    " legend.title = element_text(face=\"bold\", size = 10))"
   ]
  },
  {
   "cell_type": "markdown",
   "metadata": {},
   "source": [
    "**<u>The 20 Most Popular Male Baby Names</u>**\n",
    "\n",
    "We can also look at the most popular male baby names. The code uses features from data.table and it is quite similar to the code above. Here is the code and output."
   ]
  },
  {
   "cell_type": "code",
   "execution_count": 15,
   "metadata": {},
   "outputs": [
    {
     "data": {
      "text/html": [
       "<table>\n",
       "<thead><tr><th scope=col>Name</th><th scope=col>Name.Count</th></tr></thead>\n",
       "<tbody>\n",
       "\t<tr><td>James      </td><td>5120990    </td></tr>\n",
       "\t<tr><td>John       </td><td>5095674    </td></tr>\n",
       "\t<tr><td>Robert     </td><td>4803068    </td></tr>\n",
       "\t<tr><td>Michael    </td><td>4323928    </td></tr>\n",
       "\t<tr><td>William    </td><td>4071645    </td></tr>\n",
       "\t<tr><td>David      </td><td>3589754    </td></tr>\n",
       "\t<tr><td>Joseph     </td><td>2581785    </td></tr>\n",
       "\t<tr><td>Richard    </td><td>2558165    </td></tr>\n",
       "\t<tr><td>Charles    </td><td>2371621    </td></tr>\n",
       "\t<tr><td>Thomas     </td><td>2290364    </td></tr>\n",
       "\t<tr><td>Christopher</td><td>2004667    </td></tr>\n",
       "\t<tr><td>Daniel     </td><td>1882435    </td></tr>\n",
       "\t<tr><td>Matthew    </td><td>1566027    </td></tr>\n",
       "\t<tr><td>George     </td><td>1457646    </td></tr>\n",
       "\t<tr><td>Anthony    </td><td>1413852    </td></tr>\n",
       "\t<tr><td>Donald     </td><td>1409708    </td></tr>\n",
       "\t<tr><td>Paul       </td><td>1383157    </td></tr>\n",
       "\t<tr><td>Mark       </td><td>1345859    </td></tr>\n",
       "\t<tr><td>Edward     </td><td>1283884    </td></tr>\n",
       "\t<tr><td>Steven     </td><td>1275903    </td></tr>\n",
       "</tbody>\n",
       "</table>\n"
      ],
      "text/latex": [
       "\\begin{tabular}{r|ll}\n",
       " Name & Name.Count\\\\\n",
       "\\hline\n",
       "\t James       & 5120990    \\\\\n",
       "\t John        & 5095674    \\\\\n",
       "\t Robert      & 4803068    \\\\\n",
       "\t Michael     & 4323928    \\\\\n",
       "\t William     & 4071645    \\\\\n",
       "\t David       & 3589754    \\\\\n",
       "\t Joseph      & 2581785    \\\\\n",
       "\t Richard     & 2558165    \\\\\n",
       "\t Charles     & 2371621    \\\\\n",
       "\t Thomas      & 2290364    \\\\\n",
       "\t Christopher & 2004667    \\\\\n",
       "\t Daniel      & 1882435    \\\\\n",
       "\t Matthew     & 1566027    \\\\\n",
       "\t George      & 1457646    \\\\\n",
       "\t Anthony     & 1413852    \\\\\n",
       "\t Donald      & 1409708    \\\\\n",
       "\t Paul        & 1383157    \\\\\n",
       "\t Mark        & 1345859    \\\\\n",
       "\t Edward      & 1283884    \\\\\n",
       "\t Steven      & 1275903    \\\\\n",
       "\\end{tabular}\n"
      ],
      "text/markdown": [
       "\n",
       "Name | Name.Count | \n",
       "|---|---|---|---|---|---|---|---|---|---|---|---|---|---|---|---|---|---|---|---|\n",
       "| James       | 5120990     | \n",
       "| John        | 5095674     | \n",
       "| Robert      | 4803068     | \n",
       "| Michael     | 4323928     | \n",
       "| William     | 4071645     | \n",
       "| David       | 3589754     | \n",
       "| Joseph      | 2581785     | \n",
       "| Richard     | 2558165     | \n",
       "| Charles     | 2371621     | \n",
       "| Thomas      | 2290364     | \n",
       "| Christopher | 2004667     | \n",
       "| Daniel      | 1882435     | \n",
       "| Matthew     | 1566027     | \n",
       "| George      | 1457646     | \n",
       "| Anthony     | 1413852     | \n",
       "| Donald      | 1409708     | \n",
       "| Paul        | 1383157     | \n",
       "| Mark        | 1345859     | \n",
       "| Edward      | 1283884     | \n",
       "| Steven      | 1275903     | \n",
       "\n",
       "\n"
      ],
      "text/plain": [
       "   Name        Name.Count\n",
       "1  James       5120990   \n",
       "2  John        5095674   \n",
       "3  Robert      4803068   \n",
       "4  Michael     4323928   \n",
       "5  William     4071645   \n",
       "6  David       3589754   \n",
       "7  Joseph      2581785   \n",
       "8  Richard     2558165   \n",
       "9  Charles     2371621   \n",
       "10 Thomas      2290364   \n",
       "11 Christopher 2004667   \n",
       "12 Daniel      1882435   \n",
       "13 Matthew     1566027   \n",
       "14 George      1457646   \n",
       "15 Anthony     1413852   \n",
       "16 Donald      1409708   \n",
       "17 Paul        1383157   \n",
       "18 Mark        1345859   \n",
       "19 Edward      1283884   \n",
       "20 Steven      1275903   "
      ]
     },
     "metadata": {},
     "output_type": "display_data"
    }
   ],
   "source": [
    "### Male Baby Names:\n",
    "\n",
    "male_babynames <- baby_data[Sex == \"M\" , .(Name.Count = sum(Count)), by = Name][order(-Name.Count)]\n",
    "\n",
    "head(male_babynames , n = 20)\n",
    " "
   ]
  },
  {
   "cell_type": "code",
   "execution_count": 16,
   "metadata": {},
   "outputs": [
    {
     "data": {
      "text/html": [
       "<table>\n",
       "<thead><tr><th scope=col>Name</th><th scope=col>Name.Count</th></tr></thead>\n",
       "<tbody>\n",
       "\t<tr><td>James      </td><td>5120990    </td></tr>\n",
       "\t<tr><td>John       </td><td>5095674    </td></tr>\n",
       "\t<tr><td>Robert     </td><td>4803068    </td></tr>\n",
       "\t<tr><td>Michael    </td><td>4323928    </td></tr>\n",
       "\t<tr><td>William    </td><td>4071645    </td></tr>\n",
       "\t<tr><td>David      </td><td>3589754    </td></tr>\n",
       "\t<tr><td>Joseph     </td><td>2581785    </td></tr>\n",
       "\t<tr><td>Richard    </td><td>2558165    </td></tr>\n",
       "\t<tr><td>Charles    </td><td>2371621    </td></tr>\n",
       "\t<tr><td>Thomas     </td><td>2290364    </td></tr>\n",
       "\t<tr><td>Christopher</td><td>2004667    </td></tr>\n",
       "\t<tr><td>Daniel     </td><td>1882435    </td></tr>\n",
       "\t<tr><td>Matthew    </td><td>1566027    </td></tr>\n",
       "\t<tr><td>George     </td><td>1457646    </td></tr>\n",
       "\t<tr><td>Anthony    </td><td>1413852    </td></tr>\n",
       "\t<tr><td>Donald     </td><td>1409708    </td></tr>\n",
       "\t<tr><td>Paul       </td><td>1383157    </td></tr>\n",
       "\t<tr><td>Mark       </td><td>1345859    </td></tr>\n",
       "\t<tr><td>Edward     </td><td>1283884    </td></tr>\n",
       "\t<tr><td>Steven     </td><td>1275903    </td></tr>\n",
       "</tbody>\n",
       "</table>\n"
      ],
      "text/latex": [
       "\\begin{tabular}{r|ll}\n",
       " Name & Name.Count\\\\\n",
       "\\hline\n",
       "\t James       & 5120990    \\\\\n",
       "\t John        & 5095674    \\\\\n",
       "\t Robert      & 4803068    \\\\\n",
       "\t Michael     & 4323928    \\\\\n",
       "\t William     & 4071645    \\\\\n",
       "\t David       & 3589754    \\\\\n",
       "\t Joseph      & 2581785    \\\\\n",
       "\t Richard     & 2558165    \\\\\n",
       "\t Charles     & 2371621    \\\\\n",
       "\t Thomas      & 2290364    \\\\\n",
       "\t Christopher & 2004667    \\\\\n",
       "\t Daniel      & 1882435    \\\\\n",
       "\t Matthew     & 1566027    \\\\\n",
       "\t George      & 1457646    \\\\\n",
       "\t Anthony     & 1413852    \\\\\n",
       "\t Donald      & 1409708    \\\\\n",
       "\t Paul        & 1383157    \\\\\n",
       "\t Mark        & 1345859    \\\\\n",
       "\t Edward      & 1283884    \\\\\n",
       "\t Steven      & 1275903    \\\\\n",
       "\\end{tabular}\n"
      ],
      "text/markdown": [
       "\n",
       "Name | Name.Count | \n",
       "|---|---|---|---|---|---|---|---|---|---|---|---|---|---|---|---|---|---|---|---|\n",
       "| James       | 5120990     | \n",
       "| John        | 5095674     | \n",
       "| Robert      | 4803068     | \n",
       "| Michael     | 4323928     | \n",
       "| William     | 4071645     | \n",
       "| David       | 3589754     | \n",
       "| Joseph      | 2581785     | \n",
       "| Richard     | 2558165     | \n",
       "| Charles     | 2371621     | \n",
       "| Thomas      | 2290364     | \n",
       "| Christopher | 2004667     | \n",
       "| Daniel      | 1882435     | \n",
       "| Matthew     | 1566027     | \n",
       "| George      | 1457646     | \n",
       "| Anthony     | 1413852     | \n",
       "| Donald      | 1409708     | \n",
       "| Paul        | 1383157     | \n",
       "| Mark        | 1345859     | \n",
       "| Edward      | 1283884     | \n",
       "| Steven      | 1275903     | \n",
       "\n",
       "\n"
      ],
      "text/plain": [
       "   Name        Name.Count\n",
       "1  James       5120990   \n",
       "2  John        5095674   \n",
       "3  Robert      4803068   \n",
       "4  Michael     4323928   \n",
       "5  William     4071645   \n",
       "6  David       3589754   \n",
       "7  Joseph      2581785   \n",
       "8  Richard     2558165   \n",
       "9  Charles     2371621   \n",
       "10 Thomas      2290364   \n",
       "11 Christopher 2004667   \n",
       "12 Daniel      1882435   \n",
       "13 Matthew     1566027   \n",
       "14 George      1457646   \n",
       "15 Anthony     1413852   \n",
       "16 Donald      1409708   \n",
       "17 Paul        1383157   \n",
       "18 Mark        1345859   \n",
       "19 Edward      1283884   \n",
       "20 Steven      1275903   "
      ]
     },
     "metadata": {},
     "output_type": "display_data"
    }
   ],
   "source": [
    "# Order male baby names in descending order by Count:\n",
    "# Reference: http://www.statmethods.net/management/sorting.html\n",
    "\n",
    "male_babynames <- male_babynames[order(-Name.Count), ]\n",
    "\n",
    "head(male_babynames, n = 20)"
   ]
  },
  {
   "cell_type": "code",
   "execution_count": 18,
   "metadata": {},
   "outputs": [
    {
     "data": {
      "text/html": [
       "<table>\n",
       "<thead><tr><th scope=col>Name</th><th scope=col>Name.Count</th></tr></thead>\n",
       "<tbody>\n",
       "\t<tr><td>James      </td><td>5120990    </td></tr>\n",
       "\t<tr><td>John       </td><td>5095674    </td></tr>\n",
       "\t<tr><td>Robert     </td><td>4803068    </td></tr>\n",
       "\t<tr><td>Michael    </td><td>4323928    </td></tr>\n",
       "\t<tr><td>William    </td><td>4071645    </td></tr>\n",
       "\t<tr><td>David      </td><td>3589754    </td></tr>\n",
       "\t<tr><td>Joseph     </td><td>2581785    </td></tr>\n",
       "\t<tr><td>Richard    </td><td>2558165    </td></tr>\n",
       "\t<tr><td>Charles    </td><td>2371621    </td></tr>\n",
       "\t<tr><td>Thomas     </td><td>2290364    </td></tr>\n",
       "\t<tr><td>Christopher</td><td>2004667    </td></tr>\n",
       "\t<tr><td>Daniel     </td><td>1882435    </td></tr>\n",
       "\t<tr><td>Matthew    </td><td>1566027    </td></tr>\n",
       "\t<tr><td>George     </td><td>1457646    </td></tr>\n",
       "\t<tr><td>Anthony    </td><td>1413852    </td></tr>\n",
       "\t<tr><td>Donald     </td><td>1409708    </td></tr>\n",
       "\t<tr><td>Paul       </td><td>1383157    </td></tr>\n",
       "\t<tr><td>Mark       </td><td>1345859    </td></tr>\n",
       "\t<tr><td>Edward     </td><td>1283884    </td></tr>\n",
       "\t<tr><td>Steven     </td><td>1275903    </td></tr>\n",
       "</tbody>\n",
       "</table>\n"
      ],
      "text/latex": [
       "\\begin{tabular}{r|ll}\n",
       " Name & Name.Count\\\\\n",
       "\\hline\n",
       "\t James       & 5120990    \\\\\n",
       "\t John        & 5095674    \\\\\n",
       "\t Robert      & 4803068    \\\\\n",
       "\t Michael     & 4323928    \\\\\n",
       "\t William     & 4071645    \\\\\n",
       "\t David       & 3589754    \\\\\n",
       "\t Joseph      & 2581785    \\\\\n",
       "\t Richard     & 2558165    \\\\\n",
       "\t Charles     & 2371621    \\\\\n",
       "\t Thomas      & 2290364    \\\\\n",
       "\t Christopher & 2004667    \\\\\n",
       "\t Daniel      & 1882435    \\\\\n",
       "\t Matthew     & 1566027    \\\\\n",
       "\t George      & 1457646    \\\\\n",
       "\t Anthony     & 1413852    \\\\\n",
       "\t Donald      & 1409708    \\\\\n",
       "\t Paul        & 1383157    \\\\\n",
       "\t Mark        & 1345859    \\\\\n",
       "\t Edward      & 1283884    \\\\\n",
       "\t Steven      & 1275903    \\\\\n",
       "\\end{tabular}\n"
      ],
      "text/markdown": [
       "\n",
       "Name | Name.Count | \n",
       "|---|---|---|---|---|---|---|---|---|---|---|---|---|---|---|---|---|---|---|---|\n",
       "| James       | 5120990     | \n",
       "| John        | 5095674     | \n",
       "| Robert      | 4803068     | \n",
       "| Michael     | 4323928     | \n",
       "| William     | 4071645     | \n",
       "| David       | 3589754     | \n",
       "| Joseph      | 2581785     | \n",
       "| Richard     | 2558165     | \n",
       "| Charles     | 2371621     | \n",
       "| Thomas      | 2290364     | \n",
       "| Christopher | 2004667     | \n",
       "| Daniel      | 1882435     | \n",
       "| Matthew     | 1566027     | \n",
       "| George      | 1457646     | \n",
       "| Anthony     | 1413852     | \n",
       "| Donald      | 1409708     | \n",
       "| Paul        | 1383157     | \n",
       "| Mark        | 1345859     | \n",
       "| Edward      | 1283884     | \n",
       "| Steven      | 1275903     | \n",
       "\n",
       "\n"
      ],
      "text/plain": [
       "   Name        Name.Count\n",
       "1  James       5120990   \n",
       "2  John        5095674   \n",
       "3  Robert      4803068   \n",
       "4  Michael     4323928   \n",
       "5  William     4071645   \n",
       "6  David       3589754   \n",
       "7  Joseph      2581785   \n",
       "8  Richard     2558165   \n",
       "9  Charles     2371621   \n",
       "10 Thomas      2290364   \n",
       "11 Christopher 2004667   \n",
       "12 Daniel      1882435   \n",
       "13 Matthew     1566027   \n",
       "14 George      1457646   \n",
       "15 Anthony     1413852   \n",
       "16 Donald      1409708   \n",
       "17 Paul        1383157   \n",
       "18 Mark        1345859   \n",
       "19 Edward      1283884   \n",
       "20 Steven      1275903   "
      ]
     },
     "metadata": {},
     "output_type": "display_data"
    }
   ],
   "source": [
    "# Top 20 Male Baby Names:\n",
    "\n",
    "toptwenty_m <- male_babynames[1:20, ]\n",
    "\n",
    "toptwenty_m\n"
   ]
  },
  {
   "cell_type": "code",
   "execution_count": 19,
   "metadata": {},
   "outputs": [
    {
     "data": {},
     "metadata": {},
     "output_type": "display_data"
    },
    {
     "data": {
      "image/png": "[encoded data removed]",
      "text/plain": [
       "plot without title"
      ]
     },
     "metadata": {},
     "output_type": "display_data"
    }
   ],
   "source": [
    "toptwenty_m$Name <- factor(toptwenty_m$Name, \n",
    "                    levels = toptwenty_m$Name[order(toptwenty_m$Name.Count)])\n",
    "\n",
    "# Ggplot Sideways Bar Graph (Fixed & Sorted):\n",
    "\n",
    "ggplot(toptwenty_m, aes(x = Name, y = Name.Count/1000000)) + \n",
    "  geom_bar(stat = \"identity\") + coord_flip() +\n",
    "  scale_y_continuous(breaks=seq(0, 6, 1)) + \n",
    "  geom_text(aes(label = round(Name.Count/1000000, 3)), hjust = 1.2, colour = \"white\", fontface = \"bold\") +\n",
    "  labs(x = \"Name \\n\", y = \"\\n Count (Millions) \\n\", \n",
    "       title = \"The Twenty Most Popular \\n Male Baby Names \\n\") + \n",
    "  theme(plot.title = element_text(hjust = 0.5), \n",
    "        axis.title.x = element_text(face=\"bold\", colour=\"#FF7A33\", size = 12, vjust = 1),\n",
    "        axis.title.y = element_text(face=\"bold\", colour=\"#FF7A33\", size = 12),\n",
    "        axis.text.x = element_text(vjust = 0.1, hjust = 0.1),\n",
    "        legend.title = element_text(face=\"bold\", size = 10))"
   ]
  },
  {
   "cell_type": "markdown",
   "metadata": {},
   "source": [
    "From 1880 to 2014, James is the most popular male baby name (and baby name of all time in this time frame)."
   ]
  },
  {
   "cell_type": "markdown",
   "metadata": {},
   "source": [
    "**<u>The 20 Most Popular Female Baby Names</u>**\n",
    "\n",
    "Here is the code and output for the 20 most popular female baby names from 1880 to 2014."
   ]
  },
  {
   "cell_type": "code",
   "execution_count": 20,
   "metadata": {},
   "outputs": [
    {
     "data": {
      "text/html": [
       "<table>\n",
       "<thead><tr><th scope=col>Name</th><th scope=col>Name.Count</th></tr></thead>\n",
       "<tbody>\n",
       "\t<tr><td>Mary     </td><td>4118058  </td></tr>\n",
       "\t<tr><td>Elizabeth</td><td>1610948  </td></tr>\n",
       "\t<tr><td>Patricia </td><td>1570954  </td></tr>\n",
       "\t<tr><td>Jennifer </td><td>1464067  </td></tr>\n",
       "\t<tr><td>Linda    </td><td>1451331  </td></tr>\n",
       "\t<tr><td>Barbara  </td><td>1433339  </td></tr>\n",
       "\t<tr><td>Margaret </td><td>1242141  </td></tr>\n",
       "\t<tr><td>Susan    </td><td>1120810  </td></tr>\n",
       "\t<tr><td>Dorothy  </td><td>1106106  </td></tr>\n",
       "\t<tr><td>Sarah    </td><td>1065265  </td></tr>\n",
       "\t<tr><td>Jessica  </td><td>1042201  </td></tr>\n",
       "\t<tr><td>Helen    </td><td>1016686  </td></tr>\n",
       "\t<tr><td>Nancy    </td><td>1001342  </td></tr>\n",
       "\t<tr><td>Betty    </td><td> 999066  </td></tr>\n",
       "\t<tr><td>Karen    </td><td> 984468  </td></tr>\n",
       "\t<tr><td>Lisa     </td><td> 964330  </td></tr>\n",
       "\t<tr><td>Anna     </td><td> 878988  </td></tr>\n",
       "\t<tr><td>Sandra   </td><td> 872827  </td></tr>\n",
       "\t<tr><td>Ashley   </td><td> 838186  </td></tr>\n",
       "\t<tr><td>Kimberly </td><td> 830967  </td></tr>\n",
       "</tbody>\n",
       "</table>\n"
      ],
      "text/latex": [
       "\\begin{tabular}{r|ll}\n",
       " Name & Name.Count\\\\\n",
       "\\hline\n",
       "\t Mary      & 4118058  \\\\\n",
       "\t Elizabeth & 1610948  \\\\\n",
       "\t Patricia  & 1570954  \\\\\n",
       "\t Jennifer  & 1464067  \\\\\n",
       "\t Linda     & 1451331  \\\\\n",
       "\t Barbara   & 1433339  \\\\\n",
       "\t Margaret  & 1242141  \\\\\n",
       "\t Susan     & 1120810  \\\\\n",
       "\t Dorothy   & 1106106  \\\\\n",
       "\t Sarah     & 1065265  \\\\\n",
       "\t Jessica   & 1042201  \\\\\n",
       "\t Helen     & 1016686  \\\\\n",
       "\t Nancy     & 1001342  \\\\\n",
       "\t Betty     &  999066  \\\\\n",
       "\t Karen     &  984468  \\\\\n",
       "\t Lisa      &  964330  \\\\\n",
       "\t Anna      &  878988  \\\\\n",
       "\t Sandra    &  872827  \\\\\n",
       "\t Ashley    &  838186  \\\\\n",
       "\t Kimberly  &  830967  \\\\\n",
       "\\end{tabular}\n"
      ],
      "text/markdown": [
       "\n",
       "Name | Name.Count | \n",
       "|---|---|---|---|---|---|---|---|---|---|---|---|---|---|---|---|---|---|---|---|\n",
       "| Mary      | 4118058   | \n",
       "| Elizabeth | 1610948   | \n",
       "| Patricia  | 1570954   | \n",
       "| Jennifer  | 1464067   | \n",
       "| Linda     | 1451331   | \n",
       "| Barbara   | 1433339   | \n",
       "| Margaret  | 1242141   | \n",
       "| Susan     | 1120810   | \n",
       "| Dorothy   | 1106106   | \n",
       "| Sarah     | 1065265   | \n",
       "| Jessica   | 1042201   | \n",
       "| Helen     | 1016686   | \n",
       "| Nancy     | 1001342   | \n",
       "| Betty     |  999066   | \n",
       "| Karen     |  984468   | \n",
       "| Lisa      |  964330   | \n",
       "| Anna      |  878988   | \n",
       "| Sandra    |  872827   | \n",
       "| Ashley    |  838186   | \n",
       "| Kimberly  |  830967   | \n",
       "\n",
       "\n"
      ],
      "text/plain": [
       "   Name      Name.Count\n",
       "1  Mary      4118058   \n",
       "2  Elizabeth 1610948   \n",
       "3  Patricia  1570954   \n",
       "4  Jennifer  1464067   \n",
       "5  Linda     1451331   \n",
       "6  Barbara   1433339   \n",
       "7  Margaret  1242141   \n",
       "8  Susan     1120810   \n",
       "9  Dorothy   1106106   \n",
       "10 Sarah     1065265   \n",
       "11 Jessica   1042201   \n",
       "12 Helen     1016686   \n",
       "13 Nancy     1001342   \n",
       "14 Betty      999066   \n",
       "15 Karen      984468   \n",
       "16 Lisa       964330   \n",
       "17 Anna       878988   \n",
       "18 Sandra     872827   \n",
       "19 Ashley     838186   \n",
       "20 Kimberly   830967   "
      ]
     },
     "metadata": {},
     "output_type": "display_data"
    }
   ],
   "source": [
    "# Getting the Top 20 Female Baby Names:\n",
    "\n",
    "female_babynames <- baby_data[Sex == \"F\" , .(Name.Count = sum(Count)), by = Name][order(-Name.Count)]\n",
    "\n",
    "head(female_babynames , n = 20)\n"
   ]
  },
  {
   "cell_type": "code",
   "execution_count": 22,
   "metadata": {},
   "outputs": [
    {
     "data": {
      "text/html": [
       "<table>\n",
       "<thead><tr><th scope=col>Name</th><th scope=col>Name.Count</th></tr></thead>\n",
       "<tbody>\n",
       "\t<tr><td>Mary     </td><td>4118058  </td></tr>\n",
       "\t<tr><td>Elizabeth</td><td>1610948  </td></tr>\n",
       "\t<tr><td>Patricia </td><td>1570954  </td></tr>\n",
       "\t<tr><td>Jennifer </td><td>1464067  </td></tr>\n",
       "\t<tr><td>Linda    </td><td>1451331  </td></tr>\n",
       "\t<tr><td>Barbara  </td><td>1433339  </td></tr>\n",
       "\t<tr><td>Margaret </td><td>1242141  </td></tr>\n",
       "\t<tr><td>Susan    </td><td>1120810  </td></tr>\n",
       "\t<tr><td>Dorothy  </td><td>1106106  </td></tr>\n",
       "\t<tr><td>Sarah    </td><td>1065265  </td></tr>\n",
       "\t<tr><td>Jessica  </td><td>1042201  </td></tr>\n",
       "\t<tr><td>Helen    </td><td>1016686  </td></tr>\n",
       "\t<tr><td>Nancy    </td><td>1001342  </td></tr>\n",
       "\t<tr><td>Betty    </td><td> 999066  </td></tr>\n",
       "\t<tr><td>Karen    </td><td> 984468  </td></tr>\n",
       "\t<tr><td>Lisa     </td><td> 964330  </td></tr>\n",
       "\t<tr><td>Anna     </td><td> 878988  </td></tr>\n",
       "\t<tr><td>Sandra   </td><td> 872827  </td></tr>\n",
       "\t<tr><td>Ashley   </td><td> 838186  </td></tr>\n",
       "\t<tr><td>Kimberly </td><td> 830967  </td></tr>\n",
       "</tbody>\n",
       "</table>\n"
      ],
      "text/latex": [
       "\\begin{tabular}{r|ll}\n",
       " Name & Name.Count\\\\\n",
       "\\hline\n",
       "\t Mary      & 4118058  \\\\\n",
       "\t Elizabeth & 1610948  \\\\\n",
       "\t Patricia  & 1570954  \\\\\n",
       "\t Jennifer  & 1464067  \\\\\n",
       "\t Linda     & 1451331  \\\\\n",
       "\t Barbara   & 1433339  \\\\\n",
       "\t Margaret  & 1242141  \\\\\n",
       "\t Susan     & 1120810  \\\\\n",
       "\t Dorothy   & 1106106  \\\\\n",
       "\t Sarah     & 1065265  \\\\\n",
       "\t Jessica   & 1042201  \\\\\n",
       "\t Helen     & 1016686  \\\\\n",
       "\t Nancy     & 1001342  \\\\\n",
       "\t Betty     &  999066  \\\\\n",
       "\t Karen     &  984468  \\\\\n",
       "\t Lisa      &  964330  \\\\\n",
       "\t Anna      &  878988  \\\\\n",
       "\t Sandra    &  872827  \\\\\n",
       "\t Ashley    &  838186  \\\\\n",
       "\t Kimberly  &  830967  \\\\\n",
       "\\end{tabular}\n"
      ],
      "text/markdown": [
       "\n",
       "Name | Name.Count | \n",
       "|---|---|---|---|---|---|---|---|---|---|---|---|---|---|---|---|---|---|---|---|\n",
       "| Mary      | 4118058   | \n",
       "| Elizabeth | 1610948   | \n",
       "| Patricia  | 1570954   | \n",
       "| Jennifer  | 1464067   | \n",
       "| Linda     | 1451331   | \n",
       "| Barbara   | 1433339   | \n",
       "| Margaret  | 1242141   | \n",
       "| Susan     | 1120810   | \n",
       "| Dorothy   | 1106106   | \n",
       "| Sarah     | 1065265   | \n",
       "| Jessica   | 1042201   | \n",
       "| Helen     | 1016686   | \n",
       "| Nancy     | 1001342   | \n",
       "| Betty     |  999066   | \n",
       "| Karen     |  984468   | \n",
       "| Lisa      |  964330   | \n",
       "| Anna      |  878988   | \n",
       "| Sandra    |  872827   | \n",
       "| Ashley    |  838186   | \n",
       "| Kimberly  |  830967   | \n",
       "\n",
       "\n"
      ],
      "text/plain": [
       "   Name      Name.Count\n",
       "1  Mary      4118058   \n",
       "2  Elizabeth 1610948   \n",
       "3  Patricia  1570954   \n",
       "4  Jennifer  1464067   \n",
       "5  Linda     1451331   \n",
       "6  Barbara   1433339   \n",
       "7  Margaret  1242141   \n",
       "8  Susan     1120810   \n",
       "9  Dorothy   1106106   \n",
       "10 Sarah     1065265   \n",
       "11 Jessica   1042201   \n",
       "12 Helen     1016686   \n",
       "13 Nancy     1001342   \n",
       "14 Betty      999066   \n",
       "15 Karen      984468   \n",
       "16 Lisa       964330   \n",
       "17 Anna       878988   \n",
       "18 Sandra     872827   \n",
       "19 Ashley     838186   \n",
       "20 Kimberly   830967   "
      ]
     },
     "metadata": {},
     "output_type": "display_data"
    }
   ],
   "source": [
    "# Order female baby names in descending order by Count:\n",
    "# Reference: http://www.statmethods.net/management/sorting.html\n",
    "\n",
    "female_babynames <- female_babynames[order(-Name.Count), ]\n",
    "\n",
    "head(female_babynames, n = 20)"
   ]
  },
  {
   "cell_type": "code",
   "execution_count": 23,
   "metadata": {},
   "outputs": [
    {
     "data": {
      "text/html": [
       "<table>\n",
       "<thead><tr><th scope=col>Name</th><th scope=col>Name.Count</th></tr></thead>\n",
       "<tbody>\n",
       "\t<tr><td>Mary     </td><td>4118058  </td></tr>\n",
       "\t<tr><td>Elizabeth</td><td>1610948  </td></tr>\n",
       "\t<tr><td>Patricia </td><td>1570954  </td></tr>\n",
       "\t<tr><td>Jennifer </td><td>1464067  </td></tr>\n",
       "\t<tr><td>Linda    </td><td>1451331  </td></tr>\n",
       "\t<tr><td>Barbara  </td><td>1433339  </td></tr>\n",
       "\t<tr><td>Margaret </td><td>1242141  </td></tr>\n",
       "\t<tr><td>Susan    </td><td>1120810  </td></tr>\n",
       "\t<tr><td>Dorothy  </td><td>1106106  </td></tr>\n",
       "\t<tr><td>Sarah    </td><td>1065265  </td></tr>\n",
       "\t<tr><td>Jessica  </td><td>1042201  </td></tr>\n",
       "\t<tr><td>Helen    </td><td>1016686  </td></tr>\n",
       "\t<tr><td>Nancy    </td><td>1001342  </td></tr>\n",
       "\t<tr><td>Betty    </td><td> 999066  </td></tr>\n",
       "\t<tr><td>Karen    </td><td> 984468  </td></tr>\n",
       "\t<tr><td>Lisa     </td><td> 964330  </td></tr>\n",
       "\t<tr><td>Anna     </td><td> 878988  </td></tr>\n",
       "\t<tr><td>Sandra   </td><td> 872827  </td></tr>\n",
       "\t<tr><td>Ashley   </td><td> 838186  </td></tr>\n",
       "\t<tr><td>Kimberly </td><td> 830967  </td></tr>\n",
       "</tbody>\n",
       "</table>\n"
      ],
      "text/latex": [
       "\\begin{tabular}{r|ll}\n",
       " Name & Name.Count\\\\\n",
       "\\hline\n",
       "\t Mary      & 4118058  \\\\\n",
       "\t Elizabeth & 1610948  \\\\\n",
       "\t Patricia  & 1570954  \\\\\n",
       "\t Jennifer  & 1464067  \\\\\n",
       "\t Linda     & 1451331  \\\\\n",
       "\t Barbara   & 1433339  \\\\\n",
       "\t Margaret  & 1242141  \\\\\n",
       "\t Susan     & 1120810  \\\\\n",
       "\t Dorothy   & 1106106  \\\\\n",
       "\t Sarah     & 1065265  \\\\\n",
       "\t Jessica   & 1042201  \\\\\n",
       "\t Helen     & 1016686  \\\\\n",
       "\t Nancy     & 1001342  \\\\\n",
       "\t Betty     &  999066  \\\\\n",
       "\t Karen     &  984468  \\\\\n",
       "\t Lisa      &  964330  \\\\\n",
       "\t Anna      &  878988  \\\\\n",
       "\t Sandra    &  872827  \\\\\n",
       "\t Ashley    &  838186  \\\\\n",
       "\t Kimberly  &  830967  \\\\\n",
       "\\end{tabular}\n"
      ],
      "text/markdown": [
       "\n",
       "Name | Name.Count | \n",
       "|---|---|---|---|---|---|---|---|---|---|---|---|---|---|---|---|---|---|---|---|\n",
       "| Mary      | 4118058   | \n",
       "| Elizabeth | 1610948   | \n",
       "| Patricia  | 1570954   | \n",
       "| Jennifer  | 1464067   | \n",
       "| Linda     | 1451331   | \n",
       "| Barbara   | 1433339   | \n",
       "| Margaret  | 1242141   | \n",
       "| Susan     | 1120810   | \n",
       "| Dorothy   | 1106106   | \n",
       "| Sarah     | 1065265   | \n",
       "| Jessica   | 1042201   | \n",
       "| Helen     | 1016686   | \n",
       "| Nancy     | 1001342   | \n",
       "| Betty     |  999066   | \n",
       "| Karen     |  984468   | \n",
       "| Lisa      |  964330   | \n",
       "| Anna      |  878988   | \n",
       "| Sandra    |  872827   | \n",
       "| Ashley    |  838186   | \n",
       "| Kimberly  |  830967   | \n",
       "\n",
       "\n"
      ],
      "text/plain": [
       "   Name      Name.Count\n",
       "1  Mary      4118058   \n",
       "2  Elizabeth 1610948   \n",
       "3  Patricia  1570954   \n",
       "4  Jennifer  1464067   \n",
       "5  Linda     1451331   \n",
       "6  Barbara   1433339   \n",
       "7  Margaret  1242141   \n",
       "8  Susan     1120810   \n",
       "9  Dorothy   1106106   \n",
       "10 Sarah     1065265   \n",
       "11 Jessica   1042201   \n",
       "12 Helen     1016686   \n",
       "13 Nancy     1001342   \n",
       "14 Betty      999066   \n",
       "15 Karen      984468   \n",
       "16 Lisa       964330   \n",
       "17 Anna       878988   \n",
       "18 Sandra     872827   \n",
       "19 Ashley     838186   \n",
       "20 Kimberly   830967   "
      ]
     },
     "metadata": {},
     "output_type": "display_data"
    },
    {
     "data": {},
     "metadata": {},
     "output_type": "display_data"
    },
    {
     "data": {
      "image/png": "[encoded data removed]",
      "text/plain": [
       "plot without title"
      ]
     },
     "metadata": {},
     "output_type": "display_data"
    }
   ],
   "source": [
    "# Top 20 Female Baby Names:\n",
    "\n",
    "toptwenty_f <- female_babynames[1:20, ]\n",
    " \n",
    "toptwenty_f\n",
    "\n",
    " toptwenty_f$Name <- factor(toptwenty_f$Name, \n",
    "                   levels = toptwenty_f$Name[order(toptwenty_f$Name.Count)])\n",
    " \n",
    "\n",
    "# Ggplot Sideways Bar Graph (Fixed & Sorted):\n",
    " \n",
    "ggplot(toptwenty_f, aes(x = Name, y = Name.Count/1000000)) + \n",
    "   geom_bar(stat = \"identity\") + coord_flip() +\n",
    "   scale_y_continuous(breaks=seq(0, 6, 1)) + \n",
    "   geom_text(aes(label = round(Name.Count/1000000, 3)), hjust = 1.2, colour = \"white\", fontface = \"bold\") +\n",
    "   labs(x = \"Name \\n\", y = \"\\n Count (Millions) \\n\", \n",
    "        title = \"The Twenty Most Popular \\n Female Baby Names\") + \n",
    "   theme(plot.title = element_text(hjust = 0.5), \n",
    "         axis.title.x = element_text(face=\"bold\", colour=\"#FF7A33\", size = 12, vjust = 1),\n",
    "         axis.title.y = element_text(face=\"bold\", colour=\"#FF7A33\", size = 12),\n",
    "         axis.text.x = element_text(vjust = 0.1, hjust = 0.1),\n",
    "         legend.title = element_text(face=\"bold\", size = 10))"
   ]
  },
  {
   "cell_type": "markdown",
   "metadata": {},
   "source": [
    "Mary is overwhelming the most popular female baby name from 1880 to 2014."
   ]
  },
  {
   "cell_type": "markdown",
   "metadata": {},
   "source": [
    "**<u>Notes And References</u>**\n",
    "\n",
    "As large as this dataset is, one should be wary of biases in data. It is unknown how the data was collected. Which countries, regions were involved in this sampling of this dataset?\n",
    "\n",
    "It is unknown if cases such Ana and Anna are considered the same? Likewise with cases such as Liz, Elizabeth, Liza.\n",
    "\n",
    "The time frame is from 1880 to 2014. One could look into a more recent time window such as 2000 to 2014.\n",
    "\n",
    "* R Graphics Cookbook by Winston Chang (2012)\n",
    "* http://rstudio-pubs-static.s3.amazonaws.com/7433_4537ea5073dc4162950abb715f513469.html\n",
    "* http://www.statmethods.net/management/sorting.html\n",
    "* https://s3.amazonaws.com/assets.datacamp.com/img/blog/data+table+cheat+sheet.pdf"
   ]
  }
 ],
 "metadata": {
  "kernelspec": {
   "display_name": "R",
   "language": "R",
   "name": "ir"
  },
  "language_info": {
   "codemirror_mode": "r",
   "file_extension": ".r",
   "mimetype": "text/x-r-source",
   "name": "R",
   "pygments_lexer": "r",
   "version": "3.4.1"
  }
 },
 "nbformat": 4,
 "nbformat_minor": 2
}

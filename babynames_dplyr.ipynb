{
 "cells": [
  {
   "cell_type": "markdown",
   "metadata": {},
   "source": [
    "**<u>Analyzing A Babynames Dataset In R With The dplyr Package</u>**\n",
    "\n",
    "&nbsp;\n",
    "\n",
    "Hi there. This page is about working with R's dplyr package for analyzing a babynames dataset. I have used the data.table package in R with this babynames dataset (Part 1 and Part 2) in the past but I have forgotten some things. Also, I am much more used to dplyr than data.table."
   ]
  },
  {
   "cell_type": "markdown",
   "metadata": {},
   "source": [
    "**<u>Sections</u>**\n",
    "\n",
    "* Getting Started & The babynames Dataset\n",
    "* Finding The Top 20 Baby Names\n",
    "* Finding The Top 20 Female Baby Names\n",
    "* Finding The Top 20 Male Baby Names\n",
    "* Popular Baby Names By Letter\n",
    "* References\n"
   ]
  },
  {
   "cell_type": "markdown",
   "metadata": {},
   "source": [
    "**<u>Getting Started & The babynames Dataset</u>**\n",
    "\n",
    "In R, we load the associated libraries.\n",
    "\n",
    "\n"
   ]
  },
  {
   "cell_type": "code",
   "execution_count": 1,
   "metadata": {},
   "outputs": [
    {
     "name": "stderr",
     "output_type": "stream",
     "text": [
      "Warning message:\n",
      "\"package 'babynames' was built under R version 3.4.2\"\n",
      "Attaching package: 'dplyr'\n",
      "\n",
      "The following objects are masked from 'package:stats':\n",
      "\n",
      "    filter, lag\n",
      "\n",
      "The following objects are masked from 'package:base':\n",
      "\n",
      "    intersect, setdiff, setequal, union\n",
      "\n"
     ]
    }
   ],
   "source": [
    "# Analyzing Baby Names Dataset In R With dplyr\n",
    "# With Sideways Bar Graphs\n",
    "# Ref: https://stackoverflow.com/questions/27141565/how-to-sum-up-the-duplicated-value-while-keep-the-other-columns\n",
    "\n",
    "\n",
    "library(babynames) # Baby Names dataset:\n",
    "library(ggplot2) # For Data visualization & Graphs\n",
    "library(dplyr) # For data wrangling and manipulation\n",
    "library(stringr) # For strings and regex"
   ]
  },
  {
   "cell_type": "markdown",
   "metadata": {},
   "source": [
    "The babynames package in R contains the babynames dataset where all the baby names are located.  (R Documentation image found below.)"
   ]
  },
  {
   "cell_type": "markdown",
   "metadata": {},
   "source": [
    "The data is provided by the SSA. My guess of the SSA would be The United States Society Security Administration. Baby names from this data do not represent global baby names.\n",
    "\n",
    "I save the babynames dataset into a variable called baby_data. Then I use the `head()`, `tail()` and `str()` functions to take a look of the data."
   ]
  },
  {
   "cell_type": "code",
   "execution_count": 2,
   "metadata": {},
   "outputs": [
    {
     "data": {
      "text/html": [
       "<table>\n",
       "<thead><tr><th scope=col>year</th><th scope=col>sex</th><th scope=col>name</th><th scope=col>n</th><th scope=col>prop</th></tr></thead>\n",
       "<tbody>\n",
       "\t<tr><td>1880      </td><td>F         </td><td>Mary      </td><td>7065      </td><td>0.07238433</td></tr>\n",
       "\t<tr><td>1880      </td><td>F         </td><td>Anna      </td><td>2604      </td><td>0.02667923</td></tr>\n",
       "\t<tr><td>1880      </td><td>F         </td><td>Emma      </td><td>2003      </td><td>0.02052170</td></tr>\n",
       "\t<tr><td>1880      </td><td>F         </td><td>Elizabeth </td><td>1939      </td><td>0.01986599</td></tr>\n",
       "\t<tr><td>1880      </td><td>F         </td><td>Minnie    </td><td>1746      </td><td>0.01788861</td></tr>\n",
       "\t<tr><td>1880      </td><td>F         </td><td>Margaret  </td><td>1578      </td><td>0.01616737</td></tr>\n",
       "</tbody>\n",
       "</table>\n"
      ],
      "text/latex": [
       "\\begin{tabular}{r|lllll}\n",
       " year & sex & name & n & prop\\\\\n",
       "\\hline\n",
       "\t 1880       & F          & Mary       & 7065       & 0.07238433\\\\\n",
       "\t 1880       & F          & Anna       & 2604       & 0.02667923\\\\\n",
       "\t 1880       & F          & Emma       & 2003       & 0.02052170\\\\\n",
       "\t 1880       & F          & Elizabeth  & 1939       & 0.01986599\\\\\n",
       "\t 1880       & F          & Minnie     & 1746       & 0.01788861\\\\\n",
       "\t 1880       & F          & Margaret   & 1578       & 0.01616737\\\\\n",
       "\\end{tabular}\n"
      ],
      "text/markdown": [
       "\n",
       "year | sex | name | n | prop | \n",
       "|---|---|---|---|---|---|\n",
       "| 1880       | F          | Mary       | 7065       | 0.07238433 | \n",
       "| 1880       | F          | Anna       | 2604       | 0.02667923 | \n",
       "| 1880       | F          | Emma       | 2003       | 0.02052170 | \n",
       "| 1880       | F          | Elizabeth  | 1939       | 0.01986599 | \n",
       "| 1880       | F          | Minnie     | 1746       | 0.01788861 | \n",
       "| 1880       | F          | Margaret   | 1578       | 0.01616737 | \n",
       "\n",
       "\n"
      ],
      "text/plain": [
       "  year sex name      n    prop      \n",
       "1 1880 F   Mary      7065 0.07238433\n",
       "2 1880 F   Anna      2604 0.02667923\n",
       "3 1880 F   Emma      2003 0.02052170\n",
       "4 1880 F   Elizabeth 1939 0.01986599\n",
       "5 1880 F   Minnie    1746 0.01788861\n",
       "6 1880 F   Margaret  1578 0.01616737"
      ]
     },
     "metadata": {},
     "output_type": "display_data"
    },
    {
     "data": {
      "text/html": [
       "<table>\n",
       "<thead><tr><th></th><th scope=col>year</th><th scope=col>sex</th><th scope=col>name</th><th scope=col>n</th><th scope=col>prop</th></tr></thead>\n",
       "<tbody>\n",
       "\t<tr><th scope=row>1858684</th><td>2015        </td><td>M           </td><td>Zyah        </td><td>5           </td><td>2.466855e-06</td></tr>\n",
       "\t<tr><th scope=row>1858685</th><td>2015        </td><td>M           </td><td>Zykell      </td><td>5           </td><td>2.466855e-06</td></tr>\n",
       "\t<tr><th scope=row>1858686</th><td>2015        </td><td>M           </td><td>Zyking      </td><td>5           </td><td>2.466855e-06</td></tr>\n",
       "\t<tr><th scope=row>1858687</th><td>2015        </td><td>M           </td><td>Zykir       </td><td>5           </td><td>2.466855e-06</td></tr>\n",
       "\t<tr><th scope=row>1858688</th><td>2015        </td><td>M           </td><td>Zyrus       </td><td>5           </td><td>2.466855e-06</td></tr>\n",
       "\t<tr><th scope=row>1858689</th><td>2015        </td><td>M           </td><td>Zyus        </td><td>5           </td><td>2.466855e-06</td></tr>\n",
       "</tbody>\n",
       "</table>\n"
      ],
      "text/latex": [
       "\\begin{tabular}{r|lllll}\n",
       "  & year & sex & name & n & prop\\\\\n",
       "\\hline\n",
       "\t1858684 & 2015         & M            & Zyah         & 5            & 2.466855e-06\\\\\n",
       "\t1858685 & 2015         & M            & Zykell       & 5            & 2.466855e-06\\\\\n",
       "\t1858686 & 2015         & M            & Zyking       & 5            & 2.466855e-06\\\\\n",
       "\t1858687 & 2015         & M            & Zykir        & 5            & 2.466855e-06\\\\\n",
       "\t1858688 & 2015         & M            & Zyrus        & 5            & 2.466855e-06\\\\\n",
       "\t1858689 & 2015         & M            & Zyus         & 5            & 2.466855e-06\\\\\n",
       "\\end{tabular}\n"
      ],
      "text/markdown": [
       "\n",
       "| <!--/--> | year | sex | name | n | prop | \n",
       "|---|---|---|---|---|---|\n",
       "| 1858684 | 2015         | M            | Zyah         | 5            | 2.466855e-06 | \n",
       "| 1858685 | 2015         | M            | Zykell       | 5            | 2.466855e-06 | \n",
       "| 1858686 | 2015         | M            | Zyking       | 5            | 2.466855e-06 | \n",
       "| 1858687 | 2015         | M            | Zykir        | 5            | 2.466855e-06 | \n",
       "| 1858688 | 2015         | M            | Zyrus        | 5            | 2.466855e-06 | \n",
       "| 1858689 | 2015         | M            | Zyus         | 5            | 2.466855e-06 | \n",
       "\n",
       "\n"
      ],
      "text/plain": [
       "        year sex name   n prop        \n",
       "1858684 2015 M   Zyah   5 2.466855e-06\n",
       "1858685 2015 M   Zykell 5 2.466855e-06\n",
       "1858686 2015 M   Zyking 5 2.466855e-06\n",
       "1858687 2015 M   Zykir  5 2.466855e-06\n",
       "1858688 2015 M   Zyrus  5 2.466855e-06\n",
       "1858689 2015 M   Zyus   5 2.466855e-06"
      ]
     },
     "metadata": {},
     "output_type": "display_data"
    }
   ],
   "source": [
    "# Save the babynames data into baby_data:\n",
    "\n",
    "baby_data <- data.frame(babynames)\n",
    "\n",
    "# Preview the data:\n",
    "\n",
    "head(baby_data); tail(baby_data)"
   ]
  },
  {
   "cell_type": "code",
   "execution_count": 3,
   "metadata": {},
   "outputs": [
    {
     "name": "stdout",
     "output_type": "stream",
     "text": [
      "'data.frame':\t1858689 obs. of  5 variables:\n",
      " $ year: num  1880 1880 1880 1880 1880 1880 1880 1880 1880 1880 ...\n",
      " $ sex : chr  \"F\" \"F\" \"F\" \"F\" ...\n",
      " $ name: chr  \"Mary\" \"Anna\" \"Emma\" \"Elizabeth\" ...\n",
      " $ n   : int  7065 2604 2003 1939 1746 1578 1472 1414 1320 1288 ...\n",
      " $ prop: num  0.0724 0.0267 0.0205 0.0199 0.0179 ...\n"
     ]
    }
   ],
   "source": [
    "str(baby_data)"
   ]
  },
  {
   "cell_type": "code",
   "execution_count": 4,
   "metadata": {},
   "outputs": [
    {
     "data": {
      "text/html": [
       "<table>\n",
       "<thead><tr><th scope=col>Year</th><th scope=col>Sex</th><th scope=col>Name</th><th scope=col>Count</th><th scope=col>Proportion</th></tr></thead>\n",
       "<tbody>\n",
       "\t<tr><td>1880      </td><td>F         </td><td>Mary      </td><td>7065      </td><td>0.07238433</td></tr>\n",
       "\t<tr><td>1880      </td><td>F         </td><td>Anna      </td><td>2604      </td><td>0.02667923</td></tr>\n",
       "\t<tr><td>1880      </td><td>F         </td><td>Emma      </td><td>2003      </td><td>0.02052170</td></tr>\n",
       "\t<tr><td>1880      </td><td>F         </td><td>Elizabeth </td><td>1939      </td><td>0.01986599</td></tr>\n",
       "\t<tr><td>1880      </td><td>F         </td><td>Minnie    </td><td>1746      </td><td>0.01788861</td></tr>\n",
       "\t<tr><td>1880      </td><td>F         </td><td>Margaret  </td><td>1578      </td><td>0.01616737</td></tr>\n",
       "</tbody>\n",
       "</table>\n"
      ],
      "text/latex": [
       "\\begin{tabular}{r|lllll}\n",
       " Year & Sex & Name & Count & Proportion\\\\\n",
       "\\hline\n",
       "\t 1880       & F          & Mary       & 7065       & 0.07238433\\\\\n",
       "\t 1880       & F          & Anna       & 2604       & 0.02667923\\\\\n",
       "\t 1880       & F          & Emma       & 2003       & 0.02052170\\\\\n",
       "\t 1880       & F          & Elizabeth  & 1939       & 0.01986599\\\\\n",
       "\t 1880       & F          & Minnie     & 1746       & 0.01788861\\\\\n",
       "\t 1880       & F          & Margaret   & 1578       & 0.01616737\\\\\n",
       "\\end{tabular}\n"
      ],
      "text/markdown": [
       "\n",
       "Year | Sex | Name | Count | Proportion | \n",
       "|---|---|---|---|---|---|\n",
       "| 1880       | F          | Mary       | 7065       | 0.07238433 | \n",
       "| 1880       | F          | Anna       | 2604       | 0.02667923 | \n",
       "| 1880       | F          | Emma       | 2003       | 0.02052170 | \n",
       "| 1880       | F          | Elizabeth  | 1939       | 0.01986599 | \n",
       "| 1880       | F          | Minnie     | 1746       | 0.01788861 | \n",
       "| 1880       | F          | Margaret   | 1578       | 0.01616737 | \n",
       "\n",
       "\n"
      ],
      "text/plain": [
       "  Year Sex Name      Count Proportion\n",
       "1 1880 F   Mary      7065  0.07238433\n",
       "2 1880 F   Anna      2604  0.02667923\n",
       "3 1880 F   Emma      2003  0.02052170\n",
       "4 1880 F   Elizabeth 1939  0.01986599\n",
       "5 1880 F   Minnie    1746  0.01788861\n",
       "6 1880 F   Margaret  1578  0.01616737"
      ]
     },
     "metadata": {},
     "output_type": "display_data"
    },
    {
     "data": {
      "text/html": [
       "<table>\n",
       "<thead><tr><th></th><th scope=col>Year</th><th scope=col>Sex</th><th scope=col>Name</th><th scope=col>Count</th><th scope=col>Proportion</th></tr></thead>\n",
       "<tbody>\n",
       "\t<tr><th scope=row>1858684</th><td>2015        </td><td>M           </td><td>Zyah        </td><td>5           </td><td>2.466855e-06</td></tr>\n",
       "\t<tr><th scope=row>1858685</th><td>2015        </td><td>M           </td><td>Zykell      </td><td>5           </td><td>2.466855e-06</td></tr>\n",
       "\t<tr><th scope=row>1858686</th><td>2015        </td><td>M           </td><td>Zyking      </td><td>5           </td><td>2.466855e-06</td></tr>\n",
       "\t<tr><th scope=row>1858687</th><td>2015        </td><td>M           </td><td>Zykir       </td><td>5           </td><td>2.466855e-06</td></tr>\n",
       "\t<tr><th scope=row>1858688</th><td>2015        </td><td>M           </td><td>Zyrus       </td><td>5           </td><td>2.466855e-06</td></tr>\n",
       "\t<tr><th scope=row>1858689</th><td>2015        </td><td>M           </td><td>Zyus        </td><td>5           </td><td>2.466855e-06</td></tr>\n",
       "</tbody>\n",
       "</table>\n"
      ],
      "text/latex": [
       "\\begin{tabular}{r|lllll}\n",
       "  & Year & Sex & Name & Count & Proportion\\\\\n",
       "\\hline\n",
       "\t1858684 & 2015         & M            & Zyah         & 5            & 2.466855e-06\\\\\n",
       "\t1858685 & 2015         & M            & Zykell       & 5            & 2.466855e-06\\\\\n",
       "\t1858686 & 2015         & M            & Zyking       & 5            & 2.466855e-06\\\\\n",
       "\t1858687 & 2015         & M            & Zykir        & 5            & 2.466855e-06\\\\\n",
       "\t1858688 & 2015         & M            & Zyrus        & 5            & 2.466855e-06\\\\\n",
       "\t1858689 & 2015         & M            & Zyus         & 5            & 2.466855e-06\\\\\n",
       "\\end{tabular}\n"
      ],
      "text/markdown": [
       "\n",
       "| <!--/--> | Year | Sex | Name | Count | Proportion | \n",
       "|---|---|---|---|---|---|\n",
       "| 1858684 | 2015         | M            | Zyah         | 5            | 2.466855e-06 | \n",
       "| 1858685 | 2015         | M            | Zykell       | 5            | 2.466855e-06 | \n",
       "| 1858686 | 2015         | M            | Zyking       | 5            | 2.466855e-06 | \n",
       "| 1858687 | 2015         | M            | Zykir        | 5            | 2.466855e-06 | \n",
       "| 1858688 | 2015         | M            | Zyrus        | 5            | 2.466855e-06 | \n",
       "| 1858689 | 2015         | M            | Zyus         | 5            | 2.466855e-06 | \n",
       "\n",
       "\n"
      ],
      "text/plain": [
       "        Year Sex Name   Count Proportion  \n",
       "1858684 2015 M   Zyah   5     2.466855e-06\n",
       "1858685 2015 M   Zykell 5     2.466855e-06\n",
       "1858686 2015 M   Zyking 5     2.466855e-06\n",
       "1858687 2015 M   Zykir  5     2.466855e-06\n",
       "1858688 2015 M   Zyrus  5     2.466855e-06\n",
       "1858689 2015 M   Zyus   5     2.466855e-06"
      ]
     },
     "metadata": {},
     "output_type": "display_data"
    }
   ],
   "source": [
    "# Change column names:\n",
    "\n",
    "colnames(baby_data) <- c(\"Year\", \"Sex\", \"Name\", \"Count\", \"Proportion\")\n",
    "\n",
    "head(baby_data)\n",
    "\n",
    "tail(baby_data)"
   ]
  },
  {
   "cell_type": "markdown",
   "metadata": {},
   "source": [
    "From the `head()` and `tail()` functions we can see that the babynames data contains names from the years 1880 to 2015. This is a lot of data and baby names! Remember though that these names are from the SSA are limited to the United States."
   ]
  },
  {
   "cell_type": "markdown",
   "metadata": {},
   "source": [
    "**Naming Considerations**\n",
    "\n",
    "There are cases where certain names can be either Male or Female. Here are some examples:\n",
    "\n",
    "&nbsp;\n",
    "\n",
    "* Ashley is typically a female name but there are male Ashleys out there.\n",
    "* Jordan is usually a guy's name but I have met a female Jordan.\n",
    "* Lindsey is usually a female name but there are male Lindseys.\n",
    "* Brett is usually a guy's name. It can also be a woman's name.\n",
    "\n",
    "&nbsp;\n",
    "\n",
    "I am not sure if names such as James, Jim and Jimmy are recorded together as one or are recorded separately. Other examples include Dave & David, Sara & Sarah, Ashley & Ashlee, Mary & Marie, Greg & Gregory, William & Will & Bill, John & Johnny & Jon and so on.\n",
    "\n",
    "My guess is that there are not many of these cases in the data."
   ]
  },
  {
   "cell_type": "markdown",
   "metadata": {},
   "source": [
    "**<u>Finding The Top 20 Baby Names</u>**\n",
    "\n",
    "The dplyr function in R comes in handy when it comes to data wrangling and manipulation. The data needs to be in a certain format that would be ready for plotting with ggplot2.\n",
    "\n",
    "I create a variable called sorted_names which groups the names (from different years) and Sex together. Total counts for the names are provided as well. The arrange(desc(Total)) part rearranges the rows in the data from the highest counts to the lowest counts."
   ]
  },
  {
   "cell_type": "code",
   "execution_count": 5,
   "metadata": {},
   "outputs": [
    {
     "data": {
      "text/html": [
       "<table>\n",
       "<thead><tr><th scope=col>Name</th><th scope=col>Sex</th><th scope=col>Total</th></tr></thead>\n",
       "<tbody>\n",
       "\t<tr><td>James      </td><td>M          </td><td>5120990    </td></tr>\n",
       "\t<tr><td>John       </td><td>M          </td><td>5095674    </td></tr>\n",
       "\t<tr><td>Robert     </td><td>M          </td><td>4803068    </td></tr>\n",
       "\t<tr><td>Michael    </td><td>M          </td><td>4323928    </td></tr>\n",
       "\t<tr><td>Mary       </td><td>F          </td><td>4118058    </td></tr>\n",
       "\t<tr><td>William    </td><td>M          </td><td>4071645    </td></tr>\n",
       "\t<tr><td>David      </td><td>M          </td><td>3589754    </td></tr>\n",
       "\t<tr><td>Joseph     </td><td>M          </td><td>2581785    </td></tr>\n",
       "\t<tr><td>Richard    </td><td>M          </td><td>2558165    </td></tr>\n",
       "\t<tr><td>Charles    </td><td>M          </td><td>2371621    </td></tr>\n",
       "\t<tr><td>Thomas     </td><td>M          </td><td>2290364    </td></tr>\n",
       "\t<tr><td>Christopher</td><td>M          </td><td>2004667    </td></tr>\n",
       "\t<tr><td>Daniel     </td><td>M          </td><td>1882435    </td></tr>\n",
       "\t<tr><td>Elizabeth  </td><td>F          </td><td>1610948    </td></tr>\n",
       "\t<tr><td>Patricia   </td><td>F          </td><td>1570954    </td></tr>\n",
       "\t<tr><td>Matthew    </td><td>M          </td><td>1566027    </td></tr>\n",
       "\t<tr><td>Jennifer   </td><td>F          </td><td>1464067    </td></tr>\n",
       "\t<tr><td>George     </td><td>M          </td><td>1457646    </td></tr>\n",
       "\t<tr><td>Linda      </td><td>F          </td><td>1451331    </td></tr>\n",
       "\t<tr><td>Barbara    </td><td>F          </td><td>1433339    </td></tr>\n",
       "</tbody>\n",
       "</table>\n"
      ],
      "text/latex": [
       "\\begin{tabular}{r|lll}\n",
       " Name & Sex & Total\\\\\n",
       "\\hline\n",
       "\t James       & M           & 5120990    \\\\\n",
       "\t John        & M           & 5095674    \\\\\n",
       "\t Robert      & M           & 4803068    \\\\\n",
       "\t Michael     & M           & 4323928    \\\\\n",
       "\t Mary        & F           & 4118058    \\\\\n",
       "\t William     & M           & 4071645    \\\\\n",
       "\t David       & M           & 3589754    \\\\\n",
       "\t Joseph      & M           & 2581785    \\\\\n",
       "\t Richard     & M           & 2558165    \\\\\n",
       "\t Charles     & M           & 2371621    \\\\\n",
       "\t Thomas      & M           & 2290364    \\\\\n",
       "\t Christopher & M           & 2004667    \\\\\n",
       "\t Daniel      & M           & 1882435    \\\\\n",
       "\t Elizabeth   & F           & 1610948    \\\\\n",
       "\t Patricia    & F           & 1570954    \\\\\n",
       "\t Matthew     & M           & 1566027    \\\\\n",
       "\t Jennifer    & F           & 1464067    \\\\\n",
       "\t George      & M           & 1457646    \\\\\n",
       "\t Linda       & F           & 1451331    \\\\\n",
       "\t Barbara     & F           & 1433339    \\\\\n",
       "\\end{tabular}\n"
      ],
      "text/markdown": [
       "\n",
       "Name | Sex | Total | \n",
       "|---|---|---|---|---|---|---|---|---|---|---|---|---|---|---|---|---|---|---|---|\n",
       "| James       | M           | 5120990     | \n",
       "| John        | M           | 5095674     | \n",
       "| Robert      | M           | 4803068     | \n",
       "| Michael     | M           | 4323928     | \n",
       "| Mary        | F           | 4118058     | \n",
       "| William     | M           | 4071645     | \n",
       "| David       | M           | 3589754     | \n",
       "| Joseph      | M           | 2581785     | \n",
       "| Richard     | M           | 2558165     | \n",
       "| Charles     | M           | 2371621     | \n",
       "| Thomas      | M           | 2290364     | \n",
       "| Christopher | M           | 2004667     | \n",
       "| Daniel      | M           | 1882435     | \n",
       "| Elizabeth   | F           | 1610948     | \n",
       "| Patricia    | F           | 1570954     | \n",
       "| Matthew     | M           | 1566027     | \n",
       "| Jennifer    | F           | 1464067     | \n",
       "| George      | M           | 1457646     | \n",
       "| Linda       | F           | 1451331     | \n",
       "| Barbara     | F           | 1433339     | \n",
       "\n",
       "\n"
      ],
      "text/plain": [
       "   Name        Sex Total  \n",
       "1  James       M   5120990\n",
       "2  John        M   5095674\n",
       "3  Robert      M   4803068\n",
       "4  Michael     M   4323928\n",
       "5  Mary        F   4118058\n",
       "6  William     M   4071645\n",
       "7  David       M   3589754\n",
       "8  Joseph      M   2581785\n",
       "9  Richard     M   2558165\n",
       "10 Charles     M   2371621\n",
       "11 Thomas      M   2290364\n",
       "12 Christopher M   2004667\n",
       "13 Daniel      M   1882435\n",
       "14 Elizabeth   F   1610948\n",
       "15 Patricia    F   1570954\n",
       "16 Matthew     M   1566027\n",
       "17 Jennifer    F   1464067\n",
       "18 George      M   1457646\n",
       "19 Linda       F   1451331\n",
       "20 Barbara     F   1433339"
      ]
     },
     "metadata": {},
     "output_type": "display_data"
    }
   ],
   "source": [
    "sorted_names <- baby_data %>% group_by(Name, Sex) %>% summarise(Total = sum(Count)) %>%\n",
    "                     arrange(desc(Total))\n",
    "sorted_names <- data.frame(sorted_names)\n",
    "\n",
    "head(sorted_names, n = 20)"
   ]
  },
  {
   "cell_type": "markdown",
   "metadata": {},
   "source": [
    "The sorted names contains many rows but I just want the top twenty."
   ]
  },
  {
   "cell_type": "code",
   "execution_count": 6,
   "metadata": {},
   "outputs": [
    {
     "data": {
      "text/html": [
       "<table>\n",
       "<thead><tr><th scope=col>Name</th><th scope=col>Sex</th><th scope=col>Total</th></tr></thead>\n",
       "<tbody>\n",
       "\t<tr><td>James      </td><td>M          </td><td>5120990    </td></tr>\n",
       "\t<tr><td>John       </td><td>M          </td><td>5095674    </td></tr>\n",
       "\t<tr><td>Robert     </td><td>M          </td><td>4803068    </td></tr>\n",
       "\t<tr><td>Michael    </td><td>M          </td><td>4323928    </td></tr>\n",
       "\t<tr><td>Mary       </td><td>F          </td><td>4118058    </td></tr>\n",
       "\t<tr><td>William    </td><td>M          </td><td>4071645    </td></tr>\n",
       "\t<tr><td>David      </td><td>M          </td><td>3589754    </td></tr>\n",
       "\t<tr><td>Joseph     </td><td>M          </td><td>2581785    </td></tr>\n",
       "\t<tr><td>Richard    </td><td>M          </td><td>2558165    </td></tr>\n",
       "\t<tr><td>Charles    </td><td>M          </td><td>2371621    </td></tr>\n",
       "\t<tr><td>Thomas     </td><td>M          </td><td>2290364    </td></tr>\n",
       "\t<tr><td>Christopher</td><td>M          </td><td>2004667    </td></tr>\n",
       "\t<tr><td>Daniel     </td><td>M          </td><td>1882435    </td></tr>\n",
       "\t<tr><td>Elizabeth  </td><td>F          </td><td>1610948    </td></tr>\n",
       "\t<tr><td>Patricia   </td><td>F          </td><td>1570954    </td></tr>\n",
       "\t<tr><td>Matthew    </td><td>M          </td><td>1566027    </td></tr>\n",
       "\t<tr><td>Jennifer   </td><td>F          </td><td>1464067    </td></tr>\n",
       "\t<tr><td>George     </td><td>M          </td><td>1457646    </td></tr>\n",
       "\t<tr><td>Linda      </td><td>F          </td><td>1451331    </td></tr>\n",
       "\t<tr><td>Barbara    </td><td>F          </td><td>1433339    </td></tr>\n",
       "</tbody>\n",
       "</table>\n"
      ],
      "text/latex": [
       "\\begin{tabular}{r|lll}\n",
       " Name & Sex & Total\\\\\n",
       "\\hline\n",
       "\t James       & M           & 5120990    \\\\\n",
       "\t John        & M           & 5095674    \\\\\n",
       "\t Robert      & M           & 4803068    \\\\\n",
       "\t Michael     & M           & 4323928    \\\\\n",
       "\t Mary        & F           & 4118058    \\\\\n",
       "\t William     & M           & 4071645    \\\\\n",
       "\t David       & M           & 3589754    \\\\\n",
       "\t Joseph      & M           & 2581785    \\\\\n",
       "\t Richard     & M           & 2558165    \\\\\n",
       "\t Charles     & M           & 2371621    \\\\\n",
       "\t Thomas      & M           & 2290364    \\\\\n",
       "\t Christopher & M           & 2004667    \\\\\n",
       "\t Daniel      & M           & 1882435    \\\\\n",
       "\t Elizabeth   & F           & 1610948    \\\\\n",
       "\t Patricia    & F           & 1570954    \\\\\n",
       "\t Matthew     & M           & 1566027    \\\\\n",
       "\t Jennifer    & F           & 1464067    \\\\\n",
       "\t George      & M           & 1457646    \\\\\n",
       "\t Linda       & F           & 1451331    \\\\\n",
       "\t Barbara     & F           & 1433339    \\\\\n",
       "\\end{tabular}\n"
      ],
      "text/markdown": [
       "\n",
       "Name | Sex | Total | \n",
       "|---|---|---|---|---|---|---|---|---|---|---|---|---|---|---|---|---|---|---|---|\n",
       "| James       | M           | 5120990     | \n",
       "| John        | M           | 5095674     | \n",
       "| Robert      | M           | 4803068     | \n",
       "| Michael     | M           | 4323928     | \n",
       "| Mary        | F           | 4118058     | \n",
       "| William     | M           | 4071645     | \n",
       "| David       | M           | 3589754     | \n",
       "| Joseph      | M           | 2581785     | \n",
       "| Richard     | M           | 2558165     | \n",
       "| Charles     | M           | 2371621     | \n",
       "| Thomas      | M           | 2290364     | \n",
       "| Christopher | M           | 2004667     | \n",
       "| Daniel      | M           | 1882435     | \n",
       "| Elizabeth   | F           | 1610948     | \n",
       "| Patricia    | F           | 1570954     | \n",
       "| Matthew     | M           | 1566027     | \n",
       "| Jennifer    | F           | 1464067     | \n",
       "| George      | M           | 1457646     | \n",
       "| Linda       | F           | 1451331     | \n",
       "| Barbara     | F           | 1433339     | \n",
       "\n",
       "\n"
      ],
      "text/plain": [
       "   Name        Sex Total  \n",
       "1  James       M   5120990\n",
       "2  John        M   5095674\n",
       "3  Robert      M   4803068\n",
       "4  Michael     M   4323928\n",
       "5  Mary        F   4118058\n",
       "6  William     M   4071645\n",
       "7  David       M   3589754\n",
       "8  Joseph      M   2581785\n",
       "9  Richard     M   2558165\n",
       "10 Charles     M   2371621\n",
       "11 Thomas      M   2290364\n",
       "12 Christopher M   2004667\n",
       "13 Daniel      M   1882435\n",
       "14 Elizabeth   F   1610948\n",
       "15 Patricia    F   1570954\n",
       "16 Matthew     M   1566027\n",
       "17 Jennifer    F   1464067\n",
       "18 George      M   1457646\n",
       "19 Linda       F   1451331\n",
       "20 Barbara     F   1433339"
      ]
     },
     "metadata": {},
     "output_type": "display_data"
    }
   ],
   "source": [
    "top_twenty_baby <- sorted_names[1:20, ]\n",
    "\n",
    "top_twenty_baby"
   ]
  },
  {
   "cell_type": "markdown",
   "metadata": {},
   "source": [
    "The next lines of code is for making sure that the bars in the upcoming bar graphs are sorted in order (highest to lowest)."
   ]
  },
  {
   "cell_type": "code",
   "execution_count": 8,
   "metadata": {
    "collapsed": true
   },
   "outputs": [],
   "source": [
    "top_twenty_baby$Name <- factor(top_twenty_baby$Name, \n",
    "                        levels = top_twenty_baby$Name[order(top_twenty_baby$Total)]) \n",
    " \n",
    "top_twenty_baby$Sex <- as.factor(top_twenty_baby$Sex)"
   ]
  },
  {
   "cell_type": "markdown",
   "metadata": {},
   "source": [
    "A bar graph within `ggplot2` can be created now. Here is the code and output."
   ]
  },
  {
   "cell_type": "code",
   "execution_count": 11,
   "metadata": {},
   "outputs": [
    {
     "data": {},
     "metadata": {},
     "output_type": "display_data"
    },
    {
     "data": {
      "image/png": "[encoded data removed]",
      "text/plain": [
       "plot without title"
      ]
     },
     "metadata": {},
     "output_type": "display_data"
    }
   ],
   "source": [
    "#Ggplot sideways bar graph:\n",
    "\n",
    "ggplot(top_twenty_baby, aes(x = Name, y = Total/1000000, fill = Sex)) +\n",
    "  geom_bar(stat = \"identity\") + coord_flip() +\n",
    "  scale_y_continuous(breaks = seq(0, 6, 1)) +\n",
    "  geom_text(aes(label = round(Total/1000000, 2)), hjust = 1.2, colour = \"black\", fontface = \"bold\") +\n",
    "  labs(x = \"Name \\n\", y = \"\\n Count (Millions) \\n\", title = \"Top 20 Baby Names (1880 - 2015) \\n\") +\n",
    "  theme(plot.title = element_text(hjust = 0.5, face = \"bold\", colour = \"darkblue\"),\n",
    "       axis.title.x = element_text(face = \"bold\", colour = \"darkred\", size = 12, vjust = 1),\n",
    "       axis.title.y = element_text(face = \"bold\", colour = \"darkred\", size = 12),\n",
    "       axis.text.x = element_text(vjust = 0.1, hjust = 0.1),\n",
    "       legend.title = element_text(face = \"bold\", size = 10))\n",
    "\n",
    "\n"
   ]
  },
  {
   "cell_type": "markdown",
   "metadata": {},
   "source": [
    "**Some Notes**\n",
    "\n",
    "* I put the counts in millions and have these counts displayed with the geom_text() add on function.\n",
    "* coord_flip() converts the bar graph from vertical bars to horizontal bars.\n",
    "* Setting fill = Sex gives the different colours for the graphs depending on gender. This is good for the viewer.\n",
    "* The labs() and theme() functions are for dealing with the labels and title.\n",
    "* There are more male names than female which are in the top 20 most popular baby names from 1880 to 2015 (in the USA).\n",
    "* One could investigate even further why some on these names are so popular over time (historically).\n",
    "* These names are from 1880 to 2015 but these names do not necessarily match the popular baby names from the year of 2016. Link: https://www.ssa.gov/oact/babynames/\n",
    "\n",
    "These names are from 1880 to 2015 but these names do not necessarily match the popular baby names from the year of 2016. The image is from https://www.ssa.gov/oact/babynames/."
   ]
  },
  {
   "cell_type": "markdown",
   "metadata": {},
   "source": [
    "**<u>The Top 20 Female Baby Names<u>**\n",
    "\n",
    "\n",
    "Finding the female baby names is not that difficult. We add in a `filter()` part into the `dplyr` code. The code is similar as the code in previous section."
   ]
  },
  {
   "cell_type": "code",
   "execution_count": 12,
   "metadata": {},
   "outputs": [
    {
     "data": {
      "text/html": [
       "<table>\n",
       "<thead><tr><th scope=col>Name</th><th scope=col>Total</th></tr></thead>\n",
       "<tbody>\n",
       "\t<tr><td>Mary     </td><td>4118058  </td></tr>\n",
       "\t<tr><td>Elizabeth</td><td>1610948  </td></tr>\n",
       "\t<tr><td>Patricia </td><td>1570954  </td></tr>\n",
       "\t<tr><td>Jennifer </td><td>1464067  </td></tr>\n",
       "\t<tr><td>Linda    </td><td>1451331  </td></tr>\n",
       "\t<tr><td>Barbara  </td><td>1433339  </td></tr>\n",
       "\t<tr><td>Margaret </td><td>1242141  </td></tr>\n",
       "\t<tr><td>Susan    </td><td>1120810  </td></tr>\n",
       "\t<tr><td>Dorothy  </td><td>1106106  </td></tr>\n",
       "\t<tr><td>Sarah    </td><td>1065265  </td></tr>\n",
       "\t<tr><td>Jessica  </td><td>1042201  </td></tr>\n",
       "\t<tr><td>Helen    </td><td>1016686  </td></tr>\n",
       "\t<tr><td>Nancy    </td><td>1001342  </td></tr>\n",
       "\t<tr><td>Betty    </td><td> 999066  </td></tr>\n",
       "\t<tr><td>Karen    </td><td> 984468  </td></tr>\n",
       "\t<tr><td>Lisa     </td><td> 964330  </td></tr>\n",
       "\t<tr><td>Anna     </td><td> 878988  </td></tr>\n",
       "\t<tr><td>Sandra   </td><td> 872827  </td></tr>\n",
       "\t<tr><td>Ashley   </td><td> 838186  </td></tr>\n",
       "\t<tr><td>Kimberly </td><td> 830967  </td></tr>\n",
       "</tbody>\n",
       "</table>\n"
      ],
      "text/latex": [
       "\\begin{tabular}{r|ll}\n",
       " Name & Total\\\\\n",
       "\\hline\n",
       "\t Mary      & 4118058  \\\\\n",
       "\t Elizabeth & 1610948  \\\\\n",
       "\t Patricia  & 1570954  \\\\\n",
       "\t Jennifer  & 1464067  \\\\\n",
       "\t Linda     & 1451331  \\\\\n",
       "\t Barbara   & 1433339  \\\\\n",
       "\t Margaret  & 1242141  \\\\\n",
       "\t Susan     & 1120810  \\\\\n",
       "\t Dorothy   & 1106106  \\\\\n",
       "\t Sarah     & 1065265  \\\\\n",
       "\t Jessica   & 1042201  \\\\\n",
       "\t Helen     & 1016686  \\\\\n",
       "\t Nancy     & 1001342  \\\\\n",
       "\t Betty     &  999066  \\\\\n",
       "\t Karen     &  984468  \\\\\n",
       "\t Lisa      &  964330  \\\\\n",
       "\t Anna      &  878988  \\\\\n",
       "\t Sandra    &  872827  \\\\\n",
       "\t Ashley    &  838186  \\\\\n",
       "\t Kimberly  &  830967  \\\\\n",
       "\\end{tabular}\n"
      ],
      "text/markdown": [
       "\n",
       "Name | Total | \n",
       "|---|---|---|---|---|---|---|---|---|---|---|---|---|---|---|---|---|---|---|---|\n",
       "| Mary      | 4118058   | \n",
       "| Elizabeth | 1610948   | \n",
       "| Patricia  | 1570954   | \n",
       "| Jennifer  | 1464067   | \n",
       "| Linda     | 1451331   | \n",
       "| Barbara   | 1433339   | \n",
       "| Margaret  | 1242141   | \n",
       "| Susan     | 1120810   | \n",
       "| Dorothy   | 1106106   | \n",
       "| Sarah     | 1065265   | \n",
       "| Jessica   | 1042201   | \n",
       "| Helen     | 1016686   | \n",
       "| Nancy     | 1001342   | \n",
       "| Betty     |  999066   | \n",
       "| Karen     |  984468   | \n",
       "| Lisa      |  964330   | \n",
       "| Anna      |  878988   | \n",
       "| Sandra    |  872827   | \n",
       "| Ashley    |  838186   | \n",
       "| Kimberly  |  830967   | \n",
       "\n",
       "\n"
      ],
      "text/plain": [
       "   Name      Total  \n",
       "1  Mary      4118058\n",
       "2  Elizabeth 1610948\n",
       "3  Patricia  1570954\n",
       "4  Jennifer  1464067\n",
       "5  Linda     1451331\n",
       "6  Barbara   1433339\n",
       "7  Margaret  1242141\n",
       "8  Susan     1120810\n",
       "9  Dorothy   1106106\n",
       "10 Sarah     1065265\n",
       "11 Jessica   1042201\n",
       "12 Helen     1016686\n",
       "13 Nancy     1001342\n",
       "14 Betty      999066\n",
       "15 Karen      984468\n",
       "16 Lisa       964330\n",
       "17 Anna       878988\n",
       "18 Sandra     872827\n",
       "19 Ashley     838186\n",
       "20 Kimberly   830967"
      ]
     },
     "metadata": {},
     "output_type": "display_data"
    }
   ],
   "source": [
    "## 2) Finding The Top 20 Female Baby Names:\n",
    " \n",
    "female_names <- baby_data %>% filter(Sex == \"F\") %>% group_by(Name) %>% \n",
    "                  summarise(Total = sum(Count)) %>% arrange(desc(Total))\n",
    "\n",
    "female_names <- data.frame(female_names)\n",
    "\n",
    "head(female_names, n = 20)\n",
    "\n",
    "top_twenty_female <- female_names[1:20, ]\n",
    "\n",
    "top_twenty_female$Name <- factor(top_twenty_female$Name, \n",
    "                               levels = top_twenty_female$Name[order(top_twenty_female$Total)])"
   ]
  },
  {
   "cell_type": "markdown",
   "metadata": {},
   "source": [
    "From the data, it appears that Mary is the most popular baby name. Elizabeth takes second place and the name Patricia takes third place. As mentioned before, it is uncertain if Mary is grouped along with Marie, Maria, etc."
   ]
  },
  {
   "cell_type": "code",
   "execution_count": 14,
   "metadata": {},
   "outputs": [
    {
     "data": {},
     "metadata": {},
     "output_type": "display_data"
    },
    {
     "data": {
      "image/png": "[encoded data removed]",
      "text/plain": [
       "plot without title"
      ]
     },
     "metadata": {},
     "output_type": "display_data"
    }
   ],
   "source": [
    "#Ggplot sideways bar graph:\n",
    "\n",
    "ggplot(top_twenty_female, aes(x = Name, y = Total/1000000)) +\n",
    "  geom_bar(stat = \"identity\", fill = \"maroon\") + coord_flip() +\n",
    "  scale_y_continuous(breaks = seq(0, 6, 1)) +\n",
    "  geom_text(aes(label = round(Total/1000000, 2)), hjust = 1.2, colour = \"white\", fontface = \"bold\") +\n",
    "  labs(x = \"Name \\n\", y = \"\\n Count (Millions) \\n\", title = \"Top 20 Female Baby Names (1880 - 2015) \\n\") +\n",
    "  theme(plot.title = element_text(hjust = 0.5, face = \"bold\", colour = \"darkblue\"),\n",
    "       axis.title.x = element_text(face = \"bold\", colour = \"darkred\", size = 12, vjust = 1),\n",
    "       axis.title.y = element_text(face = \"bold\", colour = \"darkred\", size = 12),\n",
    "       axis.text.x = element_text(vjust = 0.1, hjust = 0.1),\n",
    "       legend.title = element_text(face = \"bold\", size = 10))"
   ]
  },
  {
   "cell_type": "markdown",
   "metadata": {},
   "source": [
    "Mary is the biggest winner from the data and from the bar graph. There must be something about the name Mary and its popularity which would require investigation. The name Elizabeth is in second. Like mentioned in the beginning, it is unknown if Liz, Liza or Beth would be counted as Elizabeth."
   ]
  },
  {
   "cell_type": "markdown",
   "metadata": {},
   "source": [
    "**<u>Finding The Top 20 Male Baby Names</u>**\n",
    "\n",
    "Here are the top twenty male baby names in the form of a bar graph and its associated code."
   ]
  },
  {
   "cell_type": "code",
   "execution_count": 16,
   "metadata": {},
   "outputs": [
    {
     "data": {
      "text/html": [
       "<table>\n",
       "<thead><tr><th scope=col>Name</th><th scope=col>Total</th></tr></thead>\n",
       "<tbody>\n",
       "\t<tr><td>James      </td><td>5120990    </td></tr>\n",
       "\t<tr><td>John       </td><td>5095674    </td></tr>\n",
       "\t<tr><td>Robert     </td><td>4803068    </td></tr>\n",
       "\t<tr><td>Michael    </td><td>4323928    </td></tr>\n",
       "\t<tr><td>William    </td><td>4071645    </td></tr>\n",
       "\t<tr><td>David      </td><td>3589754    </td></tr>\n",
       "\t<tr><td>Joseph     </td><td>2581785    </td></tr>\n",
       "\t<tr><td>Richard    </td><td>2558165    </td></tr>\n",
       "\t<tr><td>Charles    </td><td>2371621    </td></tr>\n",
       "\t<tr><td>Thomas     </td><td>2290364    </td></tr>\n",
       "\t<tr><td>Christopher</td><td>2004667    </td></tr>\n",
       "\t<tr><td>Daniel     </td><td>1882435    </td></tr>\n",
       "\t<tr><td>Matthew    </td><td>1566027    </td></tr>\n",
       "\t<tr><td>George     </td><td>1457646    </td></tr>\n",
       "\t<tr><td>Anthony    </td><td>1413852    </td></tr>\n",
       "\t<tr><td>Donald     </td><td>1409708    </td></tr>\n",
       "\t<tr><td>Paul       </td><td>1383157    </td></tr>\n",
       "\t<tr><td>Mark       </td><td>1345859    </td></tr>\n",
       "\t<tr><td>Edward     </td><td>1283884    </td></tr>\n",
       "\t<tr><td>Steven     </td><td>1275903    </td></tr>\n",
       "</tbody>\n",
       "</table>\n"
      ],
      "text/latex": [
       "\\begin{tabular}{r|ll}\n",
       " Name & Total\\\\\n",
       "\\hline\n",
       "\t James       & 5120990    \\\\\n",
       "\t John        & 5095674    \\\\\n",
       "\t Robert      & 4803068    \\\\\n",
       "\t Michael     & 4323928    \\\\\n",
       "\t William     & 4071645    \\\\\n",
       "\t David       & 3589754    \\\\\n",
       "\t Joseph      & 2581785    \\\\\n",
       "\t Richard     & 2558165    \\\\\n",
       "\t Charles     & 2371621    \\\\\n",
       "\t Thomas      & 2290364    \\\\\n",
       "\t Christopher & 2004667    \\\\\n",
       "\t Daniel      & 1882435    \\\\\n",
       "\t Matthew     & 1566027    \\\\\n",
       "\t George      & 1457646    \\\\\n",
       "\t Anthony     & 1413852    \\\\\n",
       "\t Donald      & 1409708    \\\\\n",
       "\t Paul        & 1383157    \\\\\n",
       "\t Mark        & 1345859    \\\\\n",
       "\t Edward      & 1283884    \\\\\n",
       "\t Steven      & 1275903    \\\\\n",
       "\\end{tabular}\n"
      ],
      "text/markdown": [
       "\n",
       "Name | Total | \n",
       "|---|---|---|---|---|---|---|---|---|---|---|---|---|---|---|---|---|---|---|---|\n",
       "| James       | 5120990     | \n",
       "| John        | 5095674     | \n",
       "| Robert      | 4803068     | \n",
       "| Michael     | 4323928     | \n",
       "| William     | 4071645     | \n",
       "| David       | 3589754     | \n",
       "| Joseph      | 2581785     | \n",
       "| Richard     | 2558165     | \n",
       "| Charles     | 2371621     | \n",
       "| Thomas      | 2290364     | \n",
       "| Christopher | 2004667     | \n",
       "| Daniel      | 1882435     | \n",
       "| Matthew     | 1566027     | \n",
       "| George      | 1457646     | \n",
       "| Anthony     | 1413852     | \n",
       "| Donald      | 1409708     | \n",
       "| Paul        | 1383157     | \n",
       "| Mark        | 1345859     | \n",
       "| Edward      | 1283884     | \n",
       "| Steven      | 1275903     | \n",
       "\n",
       "\n"
      ],
      "text/plain": [
       "   Name        Total  \n",
       "1  James       5120990\n",
       "2  John        5095674\n",
       "3  Robert      4803068\n",
       "4  Michael     4323928\n",
       "5  William     4071645\n",
       "6  David       3589754\n",
       "7  Joseph      2581785\n",
       "8  Richard     2558165\n",
       "9  Charles     2371621\n",
       "10 Thomas      2290364\n",
       "11 Christopher 2004667\n",
       "12 Daniel      1882435\n",
       "13 Matthew     1566027\n",
       "14 George      1457646\n",
       "15 Anthony     1413852\n",
       "16 Donald      1409708\n",
       "17 Paul        1383157\n",
       "18 Mark        1345859\n",
       "19 Edward      1283884\n",
       "20 Steven      1275903"
      ]
     },
     "metadata": {},
     "output_type": "display_data"
    }
   ],
   "source": [
    "## 3) Finding The Top 20 Male Baby Names:\n",
    "\n",
    "male_names <- baby_data %>% filter(Sex == \"M\") %>% group_by(Name) %>% \n",
    "  summarise(Total = sum(Count)) %>% arrange(desc(Total))\n",
    "male_names <- data.frame(male_names)\n",
    "\n",
    "head(male_names, n = 20)\n",
    "\n",
    "top_twenty_male <- male_names[1:20, ]\n",
    "\n",
    "top_twenty_male$Name <- factor(top_twenty_male$Name, \n",
    "                        levels = top_twenty_male$Name[order(top_twenty_male$Total)]) "
   ]
  },
  {
   "cell_type": "code",
   "execution_count": 18,
   "metadata": {},
   "outputs": [
    {
     "data": {},
     "metadata": {},
     "output_type": "display_data"
    },
    {
     "data": {
      "image/png": "[encoded data removed]",
      "text/plain": [
       "plot without title"
      ]
     },
     "metadata": {},
     "output_type": "display_data"
    }
   ],
   "source": [
    "#Ggplot sideways bar graph:\n",
    "\n",
    "ggplot(top_twenty_male, aes(x = Name, y = Total/1000000)) +\n",
    "  geom_bar(stat = \"identity\", fill = \"blue\", alpha = 0.6) + coord_flip() +\n",
    "  scale_y_continuous(breaks = seq(0, 6, 1)) +\n",
    "  geom_text(aes(label = round(Total/1000000, 2)), hjust = 1.2, colour = \"white\", fontface = \"bold\") +\n",
    "  labs(x = \"Name \\n\", y = \"\\n Count (Millions) \\n\", title = \"Top 20 Male Baby Names (1880 - 2015) \\n\") +\n",
    "  theme(plot.title = element_text(hjust = 0.5, face = \"bold\", colour = \"darkblue\"),\n",
    "       axis.title.x = element_text(face = \"bold\", colour = \"darkred\", size = 12, vjust = 1),\n",
    "       axis.title.y = element_text(face = \"bold\", colour = \"darkred\", size = 12),\n",
    "       axis.text.x = element_text(vjust = 0.1, hjust = 0.1),\n",
    "       legend.title = element_text(face = \"bold\", size = 10))"
   ]
  },
  {
   "cell_type": "markdown",
   "metadata": {},
   "source": [
    "**<u>Popular Baby Names By Letter</u>**\n",
    "\n",
    "Some may find this metric useful and some may find it somewhat useless. I wanted to find the popular baby names by letter as an exercise in R. For me, this turned out to be somewhat technical.\n",
    "\n",
    "**grepl() Function**\n",
    "\n",
    "The `grepl()` function in R asks the user for a pattern (or regular expression) and for a string. If the pattern exists in the string, `grepl()` returns TRUE. If the pattern is not there a FALSE appears."
   ]
  },
  {
   "cell_type": "code",
   "execution_count": 27,
   "metadata": {},
   "outputs": [
    {
     "data": {
      "text/html": [
       "TRUE"
      ],
      "text/latex": [
       "TRUE"
      ],
      "text/markdown": [
       "TRUE"
      ],
      "text/plain": [
       "[1] TRUE"
      ]
     },
     "metadata": {},
     "output_type": "display_data"
    }
   ],
   "source": [
    "## 4) Popular Baby Names By Letter\n",
    "\n",
    "# grepl Function:\n",
    "\n",
    "grepl(\"^[Z]\", \"Zorro\") # Is first letter a Z? True or False?"
   ]
  },
  {
   "cell_type": "markdown",
   "metadata": {},
   "source": [
    "The `grepl()` function can be combined with the `filter()` function from the dplyr package. Here are some examples with the babynames dataset."
   ]
  },
  {
   "cell_type": "code",
   "execution_count": 28,
   "metadata": {},
   "outputs": [
    {
     "data": {
      "text/html": [
       "32272079"
      ],
      "text/latex": [
       "32272079"
      ],
      "text/markdown": [
       "32272079"
      ],
      "text/plain": [
       "[1] 32272079"
      ]
     },
     "metadata": {},
     "output_type": "display_data"
    },
    {
     "data": {
      "text/html": [
       "27836232"
      ],
      "text/latex": [
       "27836232"
      ],
      "text/markdown": [
       "27836232"
      ],
      "text/plain": [
       "[1] 27836232"
      ]
     },
     "metadata": {},
     "output_type": "display_data"
    },
    {
     "data": {
      "text/html": [
       "1396696"
      ],
      "text/latex": [
       "1396696"
      ],
      "text/markdown": [
       "1396696"
      ],
      "text/plain": [
       "[1] 1396696"
      ]
     },
     "metadata": {},
     "output_type": "display_data"
    }
   ],
   "source": [
    "letterM <- baby_data %>% filter(grepl(\"^[M]\", Name)) \n",
    "\n",
    "sum(letterM$Count)\n",
    "\n",
    "letterA <- baby_data %>% filter(grepl(\"^[A]\", Name)) \n",
    "\n",
    "sum(letterA$Count)\n",
    "\n",
    "letterZ <- baby_data %>% filter(grepl(\"^[Z]\", Name)) \n",
    "\n",
    "sum(letterZ$Count)"
   ]
  },
  {
   "cell_type": "markdown",
   "metadata": {},
   "source": [
    "Obtaining the counts for each letter would require a loop instead of doing the above procedure 26 times. The LETTERS variable contains the 26 (captialized) letters and the loop will loop through these letters."
   ]
  },
  {
   "cell_type": "code",
   "execution_count": 29,
   "metadata": {},
   "outputs": [
    {
     "data": {
      "text/html": [
       "<ol class=list-inline>\n",
       "\t<li>'A'</li>\n",
       "\t<li>'B'</li>\n",
       "\t<li>'C'</li>\n",
       "\t<li>'D'</li>\n",
       "\t<li>'E'</li>\n",
       "\t<li>'F'</li>\n",
       "\t<li>'G'</li>\n",
       "\t<li>'H'</li>\n",
       "\t<li>'I'</li>\n",
       "\t<li>'J'</li>\n",
       "\t<li>'K'</li>\n",
       "\t<li>'L'</li>\n",
       "\t<li>'M'</li>\n",
       "\t<li>'N'</li>\n",
       "\t<li>'O'</li>\n",
       "\t<li>'P'</li>\n",
       "\t<li>'Q'</li>\n",
       "\t<li>'R'</li>\n",
       "\t<li>'S'</li>\n",
       "\t<li>'T'</li>\n",
       "\t<li>'U'</li>\n",
       "\t<li>'V'</li>\n",
       "\t<li>'W'</li>\n",
       "\t<li>'X'</li>\n",
       "\t<li>'Y'</li>\n",
       "\t<li>'Z'</li>\n",
       "</ol>\n"
      ],
      "text/latex": [
       "\\begin{enumerate*}\n",
       "\\item 'A'\n",
       "\\item 'B'\n",
       "\\item 'C'\n",
       "\\item 'D'\n",
       "\\item 'E'\n",
       "\\item 'F'\n",
       "\\item 'G'\n",
       "\\item 'H'\n",
       "\\item 'I'\n",
       "\\item 'J'\n",
       "\\item 'K'\n",
       "\\item 'L'\n",
       "\\item 'M'\n",
       "\\item 'N'\n",
       "\\item 'O'\n",
       "\\item 'P'\n",
       "\\item 'Q'\n",
       "\\item 'R'\n",
       "\\item 'S'\n",
       "\\item 'T'\n",
       "\\item 'U'\n",
       "\\item 'V'\n",
       "\\item 'W'\n",
       "\\item 'X'\n",
       "\\item 'Y'\n",
       "\\item 'Z'\n",
       "\\end{enumerate*}\n"
      ],
      "text/markdown": [
       "1. 'A'\n",
       "2. 'B'\n",
       "3. 'C'\n",
       "4. 'D'\n",
       "5. 'E'\n",
       "6. 'F'\n",
       "7. 'G'\n",
       "8. 'H'\n",
       "9. 'I'\n",
       "10. 'J'\n",
       "11. 'K'\n",
       "12. 'L'\n",
       "13. 'M'\n",
       "14. 'N'\n",
       "15. 'O'\n",
       "16. 'P'\n",
       "17. 'Q'\n",
       "18. 'R'\n",
       "19. 'S'\n",
       "20. 'T'\n",
       "21. 'U'\n",
       "22. 'V'\n",
       "23. 'W'\n",
       "24. 'X'\n",
       "25. 'Y'\n",
       "26. 'Z'\n",
       "\n",
       "\n"
      ],
      "text/plain": [
       " [1] \"A\" \"B\" \"C\" \"D\" \"E\" \"F\" \"G\" \"H\" \"I\" \"J\" \"K\" \"L\" \"M\" \"N\" \"O\" \"P\" \"Q\" \"R\" \"S\"\n",
       "[20] \"T\" \"U\" \"V\" \"W\" \"X\" \"Y\" \"Z\""
      ]
     },
     "metadata": {},
     "output_type": "display_data"
    }
   ],
   "source": [
    "LETTERS"
   ]
  },
  {
   "cell_type": "markdown",
   "metadata": {},
   "source": [
    "In the for loop below I include the `paste0()` function with the `filter()` and `grepl()` functions. The `paste0()` function will combine the characters \"^[\", the element in LETTERS without the quotes, and \"]\". The counts for each letter are appended to a counts vector."
   ]
  },
  {
   "cell_type": "code",
   "execution_count": 32,
   "metadata": {
    "collapsed": true
   },
   "outputs": [],
   "source": [
    "## Getting the counts by first letter in baby names with a for loop.\n",
    "\n",
    "letterCounts <- c() #Empty vector\n",
    "\n",
    "for (char in LETTERS) {\n",
    "  total <- baby_data %>% filter(grepl(paste0(\"^[\", noquote(char), \"]\"), Name))\n",
    "  letterCounts <- append(letterCounts, sum(total$Count)) \n",
    "}\n",
    "\n",
    "\n",
    "letterCounts_tbl <- data.frame(\"First_Letter\" = LETTERS, \"Count\" = letterCounts)\n",
    "\n",
    "\n",
    "letterCounts_tbl$First_Letter <- factor(letterCounts_tbl$First_Letter, \n",
    "                               levels = letterCounts_tbl$First_Letter[order(letterCounts_tbl$Count)]) \n",
    "\n",
    "top_fifteen_firstLetter <- letterCounts_tbl[1:15, ]"
   ]
  },
  {
   "cell_type": "code",
   "execution_count": 33,
   "metadata": {},
   "outputs": [
    {
     "data": {},
     "metadata": {},
     "output_type": "display_data"
    },
    {
     "data": {
      "image/png": "[encoded data removed]",
      "text/plain": [
       "plot without title"
      ]
     },
     "metadata": {},
     "output_type": "display_data"
    }
   ],
   "source": [
    "# Ggplot Sideways Bar Graph (With removed x axes):\n",
    "# Ref: https://stackoverflow.com/questions/35090883/remove-all-of-x-axis-labels-in-ggplot\n",
    "# http://felixfan.github.io/ggplot2-remove-grid-background-margin/\n",
    "\n",
    "ggplot(top_fifteen_firstLetter , aes(x = First_Letter, y = Count/1000000)) + \n",
    "  geom_bar(stat = \"identity\") + coord_flip() +\n",
    "  scale_y_continuous(breaks = seq(0, 6, 1)) + \n",
    "  geom_text(aes(label = round(Count/1000000, 1)), hjust = 1.2, colour = \"white\", fontface = \"bold\") +\n",
    "  labs(x = \"First Letter \\n\", y = \"\\n Count (Millions) \\n\", title = \"Top 15 Baby Names By First Letter (1880 - 2015) \\n\") + \n",
    "  theme(plot.title = element_text(hjust = 0.5, colour = \"darkblue\"), \n",
    "        axis.title.x = element_text(face=\"bold\", colour=\"darkgreen\", size = 12, vjust = 1),\n",
    "        axis.title.y = element_text(face=\"bold\", colour=\"darkgreen\", size = 12),\n",
    "        axis.text.x = element_blank(),\n",
    "        axis.ticks.x=element_blank(),\n",
    "        panel.grid.minor = element_blank(),\n",
    "        panel.grid.major = element_blank(),\n",
    "        legend.title = element_text(face=\"bold\", size = 10)) "
   ]
  },
  {
   "cell_type": "markdown",
   "metadata": {},
   "source": [
    "The letter J takes first place due to popular baby names such as John, James, Joseph, Jennifer and Jessica. The second place first letter goes to M. Notable names from the first letter M include Mary, Margaret, Michael and Matthew.\n",
    "\n",
    "Note that I have removed some of the background lines in the plot with the use of commands such as panel.grid.minor = `element_blank()`  and `panel.grid.major = element_blank()`."
   ]
  },
  {
   "cell_type": "markdown",
   "metadata": {},
   "source": [
    "**<u>References</u>**\n",
    "\n",
    "&nbsp;\n",
    "\n",
    "* https://stackoverflow.com/questions/35090883/remove-all-of-x-axis-labels-in-ggplot\n",
    "* http://felixfan.github.io/ggplot2-remove-grid-background-margin/\n",
    "* https://stackoverflow.com/questions/27141565/how-to-sum-up-the-duplicated-value-while-keep-the-other-columns\n",
    "* R Graphics Cookbook by Winston Chang"
   ]
  }
 ],
 "metadata": {
  "kernelspec": {
   "display_name": "R",
   "language": "R",
   "name": "ir"
  },
  "language_info": {
   "codemirror_mode": "r",
   "file_extension": ".r",
   "mimetype": "text/x-r-source",
   "name": "R",
   "pygments_lexer": "r",
   "version": "3.4.1"
  }
 },
 "nbformat": 4,
 "nbformat_minor": 2
}

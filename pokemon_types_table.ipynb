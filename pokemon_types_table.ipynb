{
 "cells": [
  {
   "cell_type": "markdown",
   "metadata": {},
   "source": [
    "**<u>Creating A Pokemon (Gen 6+) Types Table In R</u>**\n",
    "\n",
    "&nbsp;\n",
    "\n",
    "Hi there.\n",
    "\n",
    "This page is about creating a Pokemon (Gen 6+) Types Table In R. The Fairy type is introduced in Gen 6 (XY) which is included in the plot. The reference I am using is http://pokemondb.net/type.\n"
   ]
  },
  {
   "cell_type": "markdown",
   "metadata": {},
   "source": [
    "**<u>Table Of Contents</u>**\n",
    "\n",
    "&nbsp;\n",
    "\n",
    "* References\n",
    "* A Pokemon Types Table (Gen 6+)\n",
    "* Creating A Pokemon Types Table In R\n",
    "* Creating The Pokemon Types Matrix Plot In R\n",
    "* Using The Pokemon Types Matrix Plot\n"
   ]
  },
  {
   "cell_type": "markdown",
   "metadata": {},
   "source": [
    "**<u>References</u>**\n",
    "\n",
    "&nbsp;\n",
    "\n",
    "* http://stackoverflow.com/questions/10232525/geom-tile-heatmap-with-different-high-fill-colours-based-on-factor\n",
    "* http://stackoverflow.com/questions/16074440/r-ggplot2-center-align-a-multi-line-title\n",
    "* http://docs.ggplot2.org/dev/vignettes/themes.html\n",
    "* http://docs.ggplot2.org/current/theme.html\n",
    "* https://scriptsandstatistics.wordpress.com/2017/03/30/how-to-plot-a-companion-planting-guide-using-ggplot2/\n",
    "* http://pokemondb.net/type"
   ]
  },
  {
   "cell_type": "markdown",
   "metadata": {},
   "source": [
    "**<u>A Pokemon Types Table (Gen 6+)</u>**\n",
    "\n",
    "&nbsp;\n",
    "\n",
    "The `geom_tile()` function from R's ggplot2 package allows for grid plots and tables.\n",
    "\n",
    "In R you can make something as close to this:\n",
    "\n",
    "<center><img src= \"https://img.pokemondb.net/images/typechart.png\"></center>"
   ]
  },
  {
   "cell_type": "markdown",
   "metadata": {},
   "source": [
    "**<u>Creating A Pokemon Types Table In R</u>**\n",
    "\n",
    "&nbsp;\n",
    "\n",
    "We start with creating the table of Pokemon Types with their damage multipliers. In this page we include all the type including Dark, Steel and the Fairy type.\n",
    "\n",
    "This first line of R code is for creating the Pokemon Types as a vector.\n",
    "\n",
    "&nbsp;"
   ]
  },
  {
   "cell_type": "code",
   "execution_count": 7,
   "metadata": {
    "collapsed": true
   },
   "outputs": [],
   "source": [
    "# Reference: http://pokemondb.net/type\n",
    "\n",
    "# Fairy type now included in Gen 6+:\n",
    "# Chart Reference: https://img.pokemondb.net/images/typechart.png\n",
    "\n",
    "pokemonTypes<- c(\"Normal\", \"Fire\", \"Water\", \"Electric\", \"Grass\", \"Ice\",\n",
    " \"Fighting\", \"Poison\", \"Ground\", \"Flying\", \"Psychic\",\n",
    " \"Bug\", \"Rock\", \"Ghost\", \"Dragon\", \"Dark\", \"Steel\", \"Fairy\")"
   ]
  },
  {
   "cell_type": "markdown",
   "metadata": {},
   "source": [
    "We check that this vector has a count of 18 for the 18 Pokémon types.."
   ]
  },
  {
   "cell_type": "code",
   "execution_count": 8,
   "metadata": {},
   "outputs": [
    {
     "data": {
      "text/html": [
       "18"
      ],
      "text/latex": [
       "18"
      ],
      "text/markdown": [
       "18"
      ],
      "text/plain": [
       "[1] 18"
      ]
     },
     "metadata": {},
     "output_type": "display_data"
    }
   ],
   "source": [
    "# Length of Vector / Number of Types in Pokemon Gen 6+:\n",
    "length(pokemonTypes)"
   ]
  },
  {
   "cell_type": "markdown",
   "metadata": {},
   "source": [
    "Since there are 18 Pokemon types, we would need 18 x 18 = 324 cases in our data table. These 324 cases translates to 324 rows in our table. The table could be inputted manually but that would take too long. Instead, the use of Cartesian products from the mathematical field of Set Theory along with R's `expand.grid()` function is applied. Please refer to the code and output below."
   ]
  },
  {
   "cell_type": "code",
   "execution_count": 10,
   "metadata": {
    "collapsed": true
   },
   "outputs": [],
   "source": [
    "# Create Cartesian Product Type Table: \n",
    "# Attacker in Column 1 and Defender in Column 2\n",
    "\n",
    "pokeTable <- expand.grid(pokemonTypes, pokemonTypes)\n",
    "pokeTable <- as.data.frame(pokeTable)"
   ]
  },
  {
   "cell_type": "markdown",
   "metadata": {},
   "source": [
    "We can check the dimensions of this Cartesian product table of Pokemon types."
   ]
  },
  {
   "cell_type": "code",
   "execution_count": 11,
   "metadata": {},
   "outputs": [
    {
     "data": {
      "text/html": [
       "<ol class=list-inline>\n",
       "\t<li>324</li>\n",
       "\t<li>2</li>\n",
       "</ol>\n"
      ],
      "text/latex": [
       "\\begin{enumerate*}\n",
       "\\item 324\n",
       "\\item 2\n",
       "\\end{enumerate*}\n"
      ],
      "text/markdown": [
       "1. 324\n",
       "2. 2\n",
       "\n",
       "\n"
      ],
      "text/plain": [
       "[1] 324   2"
      ]
     },
     "metadata": {},
     "output_type": "display_data"
    }
   ],
   "source": [
    "# Check dimensions (18 x 18 = 324 combinations):\n",
    "\n",
    "dim(pokeTable)"
   ]
  },
  {
   "cell_type": "markdown",
   "metadata": {},
   "source": [
    "Instead of viewing the whole table (of 324 rows), the `head()` and `tail()` functions are used to view a sample of the table."
   ]
  },
  {
   "cell_type": "code",
   "execution_count": 14,
   "metadata": {},
   "outputs": [
    {
     "data": {
      "text/html": [
       "<table>\n",
       "<thead><tr><th scope=col>Var1</th><th scope=col>Var2</th></tr></thead>\n",
       "<tbody>\n",
       "\t<tr><td>Normal  </td><td>Normal  </td></tr>\n",
       "\t<tr><td>Fire    </td><td>Normal  </td></tr>\n",
       "\t<tr><td>Water   </td><td>Normal  </td></tr>\n",
       "\t<tr><td>Electric</td><td>Normal  </td></tr>\n",
       "\t<tr><td>Grass   </td><td>Normal  </td></tr>\n",
       "\t<tr><td>Ice     </td><td>Normal  </td></tr>\n",
       "\t<tr><td>Fighting</td><td>Normal  </td></tr>\n",
       "\t<tr><td>Poison  </td><td>Normal  </td></tr>\n",
       "\t<tr><td>Ground  </td><td>Normal  </td></tr>\n",
       "\t<tr><td>Flying  </td><td>Normal  </td></tr>\n",
       "</tbody>\n",
       "</table>\n"
      ],
      "text/latex": [
       "\\begin{tabular}{r|ll}\n",
       " Var1 & Var2\\\\\n",
       "\\hline\n",
       "\t Normal   & Normal  \\\\\n",
       "\t Fire     & Normal  \\\\\n",
       "\t Water    & Normal  \\\\\n",
       "\t Electric & Normal  \\\\\n",
       "\t Grass    & Normal  \\\\\n",
       "\t Ice      & Normal  \\\\\n",
       "\t Fighting & Normal  \\\\\n",
       "\t Poison   & Normal  \\\\\n",
       "\t Ground   & Normal  \\\\\n",
       "\t Flying   & Normal  \\\\\n",
       "\\end{tabular}\n"
      ],
      "text/markdown": [
       "\n",
       "Var1 | Var2 | \n",
       "|---|---|---|---|---|---|---|---|---|---|\n",
       "| Normal   | Normal   | \n",
       "| Fire     | Normal   | \n",
       "| Water    | Normal   | \n",
       "| Electric | Normal   | \n",
       "| Grass    | Normal   | \n",
       "| Ice      | Normal   | \n",
       "| Fighting | Normal   | \n",
       "| Poison   | Normal   | \n",
       "| Ground   | Normal   | \n",
       "| Flying   | Normal   | \n",
       "\n",
       "\n"
      ],
      "text/plain": [
       "   Var1     Var2  \n",
       "1  Normal   Normal\n",
       "2  Fire     Normal\n",
       "3  Water    Normal\n",
       "4  Electric Normal\n",
       "5  Grass    Normal\n",
       "6  Ice      Normal\n",
       "7  Fighting Normal\n",
       "8  Poison   Normal\n",
       "9  Ground   Normal\n",
       "10 Flying   Normal"
      ]
     },
     "metadata": {},
     "output_type": "display_data"
    },
    {
     "data": {
      "text/html": [
       "<table>\n",
       "<thead><tr><th></th><th scope=col>Var1</th><th scope=col>Var2</th></tr></thead>\n",
       "<tbody>\n",
       "\t<tr><th scope=row>315</th><td>Ground </td><td>Fairy  </td></tr>\n",
       "\t<tr><th scope=row>316</th><td>Flying </td><td>Fairy  </td></tr>\n",
       "\t<tr><th scope=row>317</th><td>Psychic</td><td>Fairy  </td></tr>\n",
       "\t<tr><th scope=row>318</th><td>Bug    </td><td>Fairy  </td></tr>\n",
       "\t<tr><th scope=row>319</th><td>Rock   </td><td>Fairy  </td></tr>\n",
       "\t<tr><th scope=row>320</th><td>Ghost  </td><td>Fairy  </td></tr>\n",
       "\t<tr><th scope=row>321</th><td>Dragon </td><td>Fairy  </td></tr>\n",
       "\t<tr><th scope=row>322</th><td>Dark   </td><td>Fairy  </td></tr>\n",
       "\t<tr><th scope=row>323</th><td>Steel  </td><td>Fairy  </td></tr>\n",
       "\t<tr><th scope=row>324</th><td>Fairy  </td><td>Fairy  </td></tr>\n",
       "</tbody>\n",
       "</table>\n"
      ],
      "text/latex": [
       "\\begin{tabular}{r|ll}\n",
       "  & Var1 & Var2\\\\\n",
       "\\hline\n",
       "\t315 & Ground  & Fairy  \\\\\n",
       "\t316 & Flying  & Fairy  \\\\\n",
       "\t317 & Psychic & Fairy  \\\\\n",
       "\t318 & Bug     & Fairy  \\\\\n",
       "\t319 & Rock    & Fairy  \\\\\n",
       "\t320 & Ghost   & Fairy  \\\\\n",
       "\t321 & Dragon  & Fairy  \\\\\n",
       "\t322 & Dark    & Fairy  \\\\\n",
       "\t323 & Steel   & Fairy  \\\\\n",
       "\t324 & Fairy   & Fairy  \\\\\n",
       "\\end{tabular}\n"
      ],
      "text/markdown": [
       "\n",
       "| <!--/--> | Var1 | Var2 | \n",
       "|---|---|---|---|---|---|---|---|---|---|\n",
       "| 315 | Ground  | Fairy   | \n",
       "| 316 | Flying  | Fairy   | \n",
       "| 317 | Psychic | Fairy   | \n",
       "| 318 | Bug     | Fairy   | \n",
       "| 319 | Rock    | Fairy   | \n",
       "| 320 | Ghost   | Fairy   | \n",
       "| 321 | Dragon  | Fairy   | \n",
       "| 322 | Dark    | Fairy   | \n",
       "| 323 | Steel   | Fairy   | \n",
       "| 324 | Fairy   | Fairy   | \n",
       "\n",
       "\n"
      ],
      "text/plain": [
       "    Var1    Var2 \n",
       "315 Ground  Fairy\n",
       "316 Flying  Fairy\n",
       "317 Psychic Fairy\n",
       "318 Bug     Fairy\n",
       "319 Rock    Fairy\n",
       "320 Ghost   Fairy\n",
       "321 Dragon  Fairy\n",
       "322 Dark    Fairy\n",
       "323 Steel   Fairy\n",
       "324 Fairy   Fairy"
      ]
     },
     "metadata": {},
     "output_type": "display_data"
    }
   ],
   "source": [
    "# Preview the table using head and tail functions:\n",
    "\n",
    "head(pokeTable, n = 10)\n",
    "\n",
    "tail(pokeTable, n = 10)"
   ]
  },
  {
   "cell_type": "markdown",
   "metadata": {},
   "source": [
    "An empty third column for Attack Damage multiplier is added. (NA means missing value)\n"
   ]
  },
  {
   "cell_type": "code",
   "execution_count": 15,
   "metadata": {
    "collapsed": true
   },
   "outputs": [],
   "source": [
    "# Add third (empty) Column for Attack Damage Mutliplier:\n",
    "\n",
    "pokeTable[, 3] <- NA"
   ]
  },
  {
   "cell_type": "markdown",
   "metadata": {},
   "source": [
    "The column titles are currently Var1 and Var2 with an unnamed third column name. The `colnames()` function is used to assign new column names."
   ]
  },
  {
   "cell_type": "code",
   "execution_count": 16,
   "metadata": {},
   "outputs": [
    {
     "data": {
      "text/html": [
       "<table>\n",
       "<thead><tr><th scope=col>Attack_Type</th><th scope=col>Defense_Type</th><th scope=col>Attack Damage Multiplier</th></tr></thead>\n",
       "<tbody>\n",
       "\t<tr><td>Normal  </td><td>Normal  </td><td>NA      </td></tr>\n",
       "\t<tr><td>Fire    </td><td>Normal  </td><td>NA      </td></tr>\n",
       "\t<tr><td>Water   </td><td>Normal  </td><td>NA      </td></tr>\n",
       "\t<tr><td>Electric</td><td>Normal  </td><td>NA      </td></tr>\n",
       "\t<tr><td>Grass   </td><td>Normal  </td><td>NA      </td></tr>\n",
       "\t<tr><td>Ice     </td><td>Normal  </td><td>NA      </td></tr>\n",
       "\t<tr><td>Fighting</td><td>Normal  </td><td>NA      </td></tr>\n",
       "\t<tr><td>Poison  </td><td>Normal  </td><td>NA      </td></tr>\n",
       "\t<tr><td>Ground  </td><td>Normal  </td><td>NA      </td></tr>\n",
       "\t<tr><td>Flying  </td><td>Normal  </td><td>NA      </td></tr>\n",
       "</tbody>\n",
       "</table>\n"
      ],
      "text/latex": [
       "\\begin{tabular}{r|lll}\n",
       " Attack\\_Type & Defense\\_Type & Attack Damage Multiplier\\\\\n",
       "\\hline\n",
       "\t Normal   & Normal   & NA      \\\\\n",
       "\t Fire     & Normal   & NA      \\\\\n",
       "\t Water    & Normal   & NA      \\\\\n",
       "\t Electric & Normal   & NA      \\\\\n",
       "\t Grass    & Normal   & NA      \\\\\n",
       "\t Ice      & Normal   & NA      \\\\\n",
       "\t Fighting & Normal   & NA      \\\\\n",
       "\t Poison   & Normal   & NA      \\\\\n",
       "\t Ground   & Normal   & NA      \\\\\n",
       "\t Flying   & Normal   & NA      \\\\\n",
       "\\end{tabular}\n"
      ],
      "text/markdown": [
       "\n",
       "Attack_Type | Defense_Type | Attack Damage Multiplier | \n",
       "|---|---|---|---|---|---|---|---|---|---|\n",
       "| Normal   | Normal   | NA       | \n",
       "| Fire     | Normal   | NA       | \n",
       "| Water    | Normal   | NA       | \n",
       "| Electric | Normal   | NA       | \n",
       "| Grass    | Normal   | NA       | \n",
       "| Ice      | Normal   | NA       | \n",
       "| Fighting | Normal   | NA       | \n",
       "| Poison   | Normal   | NA       | \n",
       "| Ground   | Normal   | NA       | \n",
       "| Flying   | Normal   | NA       | \n",
       "\n",
       "\n"
      ],
      "text/plain": [
       "   Attack_Type Defense_Type Attack Damage Multiplier\n",
       "1  Normal      Normal       NA                      \n",
       "2  Fire        Normal       NA                      \n",
       "3  Water       Normal       NA                      \n",
       "4  Electric    Normal       NA                      \n",
       "5  Grass       Normal       NA                      \n",
       "6  Ice         Normal       NA                      \n",
       "7  Fighting    Normal       NA                      \n",
       "8  Poison      Normal       NA                      \n",
       "9  Ground      Normal       NA                      \n",
       "10 Flying      Normal       NA                      "
      ]
     },
     "metadata": {},
     "output_type": "display_data"
    }
   ],
   "source": [
    "# Rename column names:\n",
    "\n",
    "colnames(pokeTable) <- c(\"Attack_Type\", \"Defense_Type\", \"Attack Damage Multiplier\")\n",
    "\n",
    "# Check #2:\n",
    "\n",
    "head(pokeTable, n = 10)"
   ]
  },
  {
   "cell_type": "markdown",
   "metadata": {},
   "source": [
    "**Filling In The Third Column**\n",
    "\n",
    "This is the part where there is quite a bit of work. Because a third empty column was added there are 324 missing values denoted by NA. Each row where there is an attack type and defense type has to be dealt with separately. (There is no for/while loop solution here.)\n",
    "\n",
    "If there is attack type advantage then the damage does normal damage (x1). This is denoted by 1 in the third column.\n",
    "\n",
    "An attack type advantage over the defending Pokémon type results in double the damage applied from the attacking move to the defending Pokémon. This is denoted by 2 in the third column.\n",
    "\n",
    "If there is an attack type which is not favourable against the defending Pokemon type results in half damage (x1/2). The attacking move was not very effective.\n",
    "\n",
    "There are cases where certain attack types have no effect on the defending Pokemon type. The damage multiplier her is just 0.\n",
    "\n",
    "Here is the full code for filling in the third column (Attack Damage Multiplier)."
   ]
  },
  {
   "cell_type": "code",
   "execution_count": 17,
   "metadata": {
    "collapsed": true
   },
   "outputs": [],
   "source": [
    "# Fill in third column accordingly:\n",
    "\n",
    "# 1: Normal Damage, 1/2 Not Very Effective, 0 No effect\n",
    "# 2 Super Effective\n",
    "\n",
    "# 18 Per Row/Column\n",
    "\n",
    "# Normal as Defending Pokemon:\n",
    "\n",
    "pokeTable[1:18, 3] <- c(1, 1, 1, 1, 1, 1, 2, 1, 1, 1, 1, 1, 1, 0, 1, 1, 1, 1)\n",
    "\n",
    "# Fire as Defending Pokemon:\n",
    "\n",
    "pokeTable[19:36, 3] <- c(1, 1/2, 2, 1, 1/2, 1/2, 1, 1, 2, 1, 1, 1/2, 2, 1, 1, 1, 1/2, 1/2)\n",
    "\n",
    "# Water as Defending Pokemon:\n",
    "\n",
    "pokeTable[37:54, 3] <- c(1, 1/2, 1/2, 2, 2, 1/2, 1, 1, 1, 1, 1, 1, 1, 1, 1, 1, 1/2, 1)\n",
    "\n",
    "# Electric as Defending Pokemon:\n",
    "\n",
    "pokeTable[55:72, 3] <- c(1, 1, 1, 1/2, 1, 1, 1, 1, 2, 1/2, 1, 1, 1, 1, 1, 1, 1/2, 1)\n",
    "\n",
    "# Grass as Defending Pokemon:\n",
    "\n",
    "pokeTable[73:90, 3] <- c(1, 2, 1/2, 1/2, 1/2, 2, 1, 2, 1/2, 2, 1, 2, 1, 1, 1, 1, 1, 1)\n",
    "\n",
    "# Ice as Defending Pokemon:\n",
    "\n",
    "pokeTable[91:108, 3] <- c(1, 2, 1, 1, 1, 1/2, 2, 1, 1, 1, 1, 1, 2, 1, 1, 1, 2, 1)\n",
    "\n",
    "# Fighting as Defending Pokemon:\n",
    "\n",
    "pokeTable[109:126, 3] <- c(1, 1, 1, 1, 1, 1, 1, 1, 1, 2, 2, 1/2, 1/2, 1, 1, 1/2, 1, 2)\n",
    "\n",
    "# Poison as Defending Pokemon:\n",
    "\n",
    "pokeTable[127:144, 3] <- c(1, 1, 1, 1, 1/2, 1, 1/2, 1/2, 2, 1, 2, 1/2, 1, 1, 1, 1, 1, 1/2)\n",
    "\n",
    "# Ground as Defending Pokemon:\n",
    "\n",
    "pokeTable[145:162, 3] <- c(1, 1, 2, 0, 2, 2, 1, 1/2, 1, 1, 1, 1, 1/2, 1, 1, 1, 1, 1)\n",
    "\n",
    "# Flying as Defending Pokemon:\n",
    "\n",
    "pokeTable[163:180, 3] <- c(1, 1, 1, 2, 1/2, 2, 1/2, 1, 0, 1, 1, 1/2, 2, 1, 1, 1, 1, 1)\n",
    "\n",
    "# Psychic as Defending Pokemon:\n",
    "\n",
    "pokeTable[181:198, 3] <- c(1, 1, 1, 1, 1, 1, 1/2, 1, 1, 1, 1/2, 2, 1, 2, 1, 2, 1, 1)\n",
    "\n",
    "# Bug as Defending Pokemon:\n",
    "\n",
    "pokeTable[199:216, 3] <- c(1, 2, 1, 1, 1/2, 1, 1/2, 1, 1/2, 2, 1, 1, 2, 1, 1, 1, 1, 1)\n",
    "\n",
    "# Rock as Defending Pokemon:\n",
    "\n",
    "pokeTable[217:234, 3] <- c(1/2, 1/2, 2, 1, 2, 1, 2, 1/2, 2, 1/2, 1, 1, 1, 1, 1, 1, 2, 1)\n",
    "\n",
    "# Ghost as Defending Pokemon:\n",
    "\n",
    "pokeTable[235:252, 3] <- c(0, 1, 1, 1, 1, 1, 0, 1/2, 1, 1, 1, 1/2, 1, 2, 1, 2, 1, 1)\n",
    "\n",
    "# Dragon as Defending Pokemon:\n",
    "\n",
    "pokeTable[253:270, 3] <- c(1, 1/2, 1/2, 1/2, 1/2, 2, 1, 1, 1, 1, 1, 1, 1, 1, 2, 1, 1, 2)\n",
    "\n",
    "# Dark as Defending Pokemon:\n",
    "\n",
    "pokeTable[271:288, 3] <- c(1, 1, 1, 1, 1, 1, 2, 1, 1, 1, 0, 2, 1, 1/2, 1, 1/2, 1, 2)\n",
    "\n",
    "# Steel as Defending Pokemon:\n",
    "\n",
    "pokeTable[289:306, 3] <- c(1/2, 2, 1, 1, 1/2, 1/2, 2, 0, 2, 1/2, 1/2, 1/2, 1/2, 1, 1/2, 1, 1/2, 1/2)\n",
    "\n",
    "# Fairy as Defending Pokemon:\n",
    "\n",
    "pokeTable[307:324, 3] <- c(1, 1, 1, 1, 1, 1, 1/2, 2, 1, 1, 1, 1/2, 1, 1, 0, 1/2, 2, 1)"
   ]
  },
  {
   "cell_type": "markdown",
   "metadata": {},
   "source": [
    "This next piece of code involves having the values from the third column as factors. In addition, I check the structure of the table and use the `head()` and `tail()` functions."
   ]
  },
  {
   "cell_type": "code",
   "execution_count": 19,
   "metadata": {},
   "outputs": [
    {
     "name": "stdout",
     "output_type": "stream",
     "text": [
      "'data.frame':\t324 obs. of  3 variables:\n",
      " $ Attack_Type             : Factor w/ 18 levels \"Normal\",\"Fire\",..: 1 2 3 4 5 6 7 8 9 10 ...\n",
      " $ Defense_Type            : Factor w/ 18 levels \"Normal\",\"Fire\",..: 1 1 1 1 1 1 1 1 1 1 ...\n",
      " $ Attack Damage Multiplier: Factor w/ 4 levels \"0\",\"0.5\",\"1\",..: 3 3 3 3 3 3 4 3 3 3 ...\n",
      " - attr(*, \"out.attrs\")=List of 2\n",
      "  ..$ dim     : int  18 18\n",
      "  ..$ dimnames:List of 2\n",
      "  .. ..$ Var1: chr  \"Var1=Normal\" \"Var1=Fire\" \"Var1=Water\" \"Var1=Electric\" ...\n",
      "  .. ..$ Var2: chr  \"Var2=Normal\" \"Var2=Fire\" \"Var2=Water\" \"Var2=Electric\" ...\n"
     ]
    }
   ],
   "source": [
    "# Have the multipliers in column 3 as factors:\n",
    "\n",
    "pokeTable[, 3] <- as.factor(pokeTable[, 3])\n",
    "\n",
    "# Check structure:\n",
    "\n",
    "str(pokeTable)\n"
   ]
  },
  {
   "cell_type": "code",
   "execution_count": 20,
   "metadata": {},
   "outputs": [
    {
     "data": {
      "text/html": [
       "<table>\n",
       "<thead><tr><th scope=col>Attack_Type</th><th scope=col>Defense_Type</th><th scope=col>Attack Damage Multiplier</th></tr></thead>\n",
       "<tbody>\n",
       "\t<tr><td>Normal  </td><td>Normal  </td><td>1       </td></tr>\n",
       "\t<tr><td>Fire    </td><td>Normal  </td><td>1       </td></tr>\n",
       "\t<tr><td>Water   </td><td>Normal  </td><td>1       </td></tr>\n",
       "\t<tr><td>Electric</td><td>Normal  </td><td>1       </td></tr>\n",
       "\t<tr><td>Grass   </td><td>Normal  </td><td>1       </td></tr>\n",
       "\t<tr><td>Ice     </td><td>Normal  </td><td>1       </td></tr>\n",
       "\t<tr><td>Fighting</td><td>Normal  </td><td>2       </td></tr>\n",
       "\t<tr><td>Poison  </td><td>Normal  </td><td>1       </td></tr>\n",
       "\t<tr><td>Ground  </td><td>Normal  </td><td>1       </td></tr>\n",
       "\t<tr><td>Flying  </td><td>Normal  </td><td>1       </td></tr>\n",
       "</tbody>\n",
       "</table>\n"
      ],
      "text/latex": [
       "\\begin{tabular}{r|lll}\n",
       " Attack\\_Type & Defense\\_Type & Attack Damage Multiplier\\\\\n",
       "\\hline\n",
       "\t Normal   & Normal   & 1       \\\\\n",
       "\t Fire     & Normal   & 1       \\\\\n",
       "\t Water    & Normal   & 1       \\\\\n",
       "\t Electric & Normal   & 1       \\\\\n",
       "\t Grass    & Normal   & 1       \\\\\n",
       "\t Ice      & Normal   & 1       \\\\\n",
       "\t Fighting & Normal   & 2       \\\\\n",
       "\t Poison   & Normal   & 1       \\\\\n",
       "\t Ground   & Normal   & 1       \\\\\n",
       "\t Flying   & Normal   & 1       \\\\\n",
       "\\end{tabular}\n"
      ],
      "text/markdown": [
       "\n",
       "Attack_Type | Defense_Type | Attack Damage Multiplier | \n",
       "|---|---|---|---|---|---|---|---|---|---|\n",
       "| Normal   | Normal   | 1        | \n",
       "| Fire     | Normal   | 1        | \n",
       "| Water    | Normal   | 1        | \n",
       "| Electric | Normal   | 1        | \n",
       "| Grass    | Normal   | 1        | \n",
       "| Ice      | Normal   | 1        | \n",
       "| Fighting | Normal   | 2        | \n",
       "| Poison   | Normal   | 1        | \n",
       "| Ground   | Normal   | 1        | \n",
       "| Flying   | Normal   | 1        | \n",
       "\n",
       "\n"
      ],
      "text/plain": [
       "   Attack_Type Defense_Type Attack Damage Multiplier\n",
       "1  Normal      Normal       1                       \n",
       "2  Fire        Normal       1                       \n",
       "3  Water       Normal       1                       \n",
       "4  Electric    Normal       1                       \n",
       "5  Grass       Normal       1                       \n",
       "6  Ice         Normal       1                       \n",
       "7  Fighting    Normal       2                       \n",
       "8  Poison      Normal       1                       \n",
       "9  Ground      Normal       1                       \n",
       "10 Flying      Normal       1                       "
      ]
     },
     "metadata": {},
     "output_type": "display_data"
    },
    {
     "data": {
      "text/html": [
       "<table>\n",
       "<thead><tr><th></th><th scope=col>Attack_Type</th><th scope=col>Defense_Type</th><th scope=col>Attack Damage Multiplier</th></tr></thead>\n",
       "<tbody>\n",
       "\t<tr><th scope=row>315</th><td>Ground </td><td>Fairy  </td><td>1      </td></tr>\n",
       "\t<tr><th scope=row>316</th><td>Flying </td><td>Fairy  </td><td>1      </td></tr>\n",
       "\t<tr><th scope=row>317</th><td>Psychic</td><td>Fairy  </td><td>1      </td></tr>\n",
       "\t<tr><th scope=row>318</th><td>Bug    </td><td>Fairy  </td><td>0.5    </td></tr>\n",
       "\t<tr><th scope=row>319</th><td>Rock   </td><td>Fairy  </td><td>1      </td></tr>\n",
       "\t<tr><th scope=row>320</th><td>Ghost  </td><td>Fairy  </td><td>1      </td></tr>\n",
       "\t<tr><th scope=row>321</th><td>Dragon </td><td>Fairy  </td><td>0      </td></tr>\n",
       "\t<tr><th scope=row>322</th><td>Dark   </td><td>Fairy  </td><td>0.5    </td></tr>\n",
       "\t<tr><th scope=row>323</th><td>Steel  </td><td>Fairy  </td><td>2      </td></tr>\n",
       "\t<tr><th scope=row>324</th><td>Fairy  </td><td>Fairy  </td><td>1      </td></tr>\n",
       "</tbody>\n",
       "</table>\n"
      ],
      "text/latex": [
       "\\begin{tabular}{r|lll}\n",
       "  & Attack\\_Type & Defense\\_Type & Attack Damage Multiplier\\\\\n",
       "\\hline\n",
       "\t315 & Ground  & Fairy   & 1      \\\\\n",
       "\t316 & Flying  & Fairy   & 1      \\\\\n",
       "\t317 & Psychic & Fairy   & 1      \\\\\n",
       "\t318 & Bug     & Fairy   & 0.5    \\\\\n",
       "\t319 & Rock    & Fairy   & 1      \\\\\n",
       "\t320 & Ghost   & Fairy   & 1      \\\\\n",
       "\t321 & Dragon  & Fairy   & 0      \\\\\n",
       "\t322 & Dark    & Fairy   & 0.5    \\\\\n",
       "\t323 & Steel   & Fairy   & 2      \\\\\n",
       "\t324 & Fairy   & Fairy   & 1      \\\\\n",
       "\\end{tabular}\n"
      ],
      "text/markdown": [
       "\n",
       "| <!--/--> | Attack_Type | Defense_Type | Attack Damage Multiplier | \n",
       "|---|---|---|---|---|---|---|---|---|---|\n",
       "| 315 | Ground  | Fairy   | 1       | \n",
       "| 316 | Flying  | Fairy   | 1       | \n",
       "| 317 | Psychic | Fairy   | 1       | \n",
       "| 318 | Bug     | Fairy   | 0.5     | \n",
       "| 319 | Rock    | Fairy   | 1       | \n",
       "| 320 | Ghost   | Fairy   | 1       | \n",
       "| 321 | Dragon  | Fairy   | 0       | \n",
       "| 322 | Dark    | Fairy   | 0.5     | \n",
       "| 323 | Steel   | Fairy   | 2       | \n",
       "| 324 | Fairy   | Fairy   | 1       | \n",
       "\n",
       "\n"
      ],
      "text/plain": [
       "    Attack_Type Defense_Type Attack Damage Multiplier\n",
       "315 Ground      Fairy        1                       \n",
       "316 Flying      Fairy        1                       \n",
       "317 Psychic     Fairy        1                       \n",
       "318 Bug         Fairy        0.5                     \n",
       "319 Rock        Fairy        1                       \n",
       "320 Ghost       Fairy        1                       \n",
       "321 Dragon      Fairy        0                       \n",
       "322 Dark        Fairy        0.5                     \n",
       "323 Steel       Fairy        2                       \n",
       "324 Fairy       Fairy        1                       "
      ]
     },
     "metadata": {},
     "output_type": "display_data"
    }
   ],
   "source": [
    "# Check #3:\n",
    "\n",
    "head(pokeTable, n = 10)\n",
    " \n",
    "tail(pokeTable, n = 10)"
   ]
  },
  {
   "cell_type": "markdown",
   "metadata": {},
   "source": [
    "**<u>Creating The Pokemon Types Matrix Plot In R</u>**\n",
    "\n",
    "&nbsp\n",
    "\n",
    "The table of Pokemon Types and damage multipliers is now ready for plotting purposes.\n",
    "\n",
    "The ggplot2 package in R for data visualization is first loaded."
   ]
  },
  {
   "cell_type": "code",
   "execution_count": 22,
   "metadata": {
    "collapsed": true
   },
   "outputs": [],
   "source": [
    "library(ggplot2)"
   ]
  },
  {
   "cell_type": "markdown",
   "metadata": {},
   "source": [
    "Here is the code and output for the Pokemon types matrix plot. In this plot, the defending Pokemon types are on the x-axis (horizontal) and the attacking move type is on the y-axis (side/vertical)."
   ]
  },
  {
   "cell_type": "code",
   "execution_count": 23,
   "metadata": {},
   "outputs": [
    {
     "data": {},
     "metadata": {},
     "output_type": "display_data"
    },
    {
     "data": {
      "image/png": "[encoded data removed]",
      "text/plain": [
       "plot without title"
      ]
     },
     "metadata": {},
     "output_type": "display_data"
    }
   ],
   "source": [
    "## Attack Type on x-axis and Defense Type on y-axis with x-axis labels on top:\n",
    "\n",
    "\n",
    "ggplot(pokeTable,aes(x = pokeTable[, 2],y = pokeTable[, 1], fill = pokeTable[, 3])) + \n",
    " geom_tile() + \n",
    " scale_fill_manual(values = c('black', 'red','gray', \"green\")) +\n",
    " labs(x = \"Defense Type \\n\", y = \"Attack Type \\n\", \n",
    " title = \"Pokemon Type Chart\", fill = \"Attack Damage Multiplier \\n\") + \n",
    " theme(plot.title = element_text(hjust = 0.5), \n",
    " axis.title.x = element_text(face=\"bold\", colour=\"#FF7A33\", size = 12),\n",
    " axis.title.y = element_text(face=\"bold\", colour=\"#FF7A33\", size = 12),\n",
    " axis.text.x = element_text(angle = 90,vjust = 0.2, hjust = 1),\n",
    " legend.title = element_text(face=\"bold\", size = 10)) +\n",
    " scale_x_discrete(position = \"top\")"
   ]
  },
  {
   "cell_type": "markdown",
   "metadata": {},
   "source": [
    "**<u>Using The Pokemon Types Matrix Plot</u>**\n",
    "\n",
    "&nbsp;\n",
    "\n",
    "For this section, we will refer to the plot that was just shown.\n",
    "\n",
    "Using this table is not too hard.\n",
    "\n",
    "As an example, if the defending Pokemon type is a Rock type and the attacking move is a water type then the attack would double the normal damage as indicated by the green square.\n",
    "\n",
    "&nbsp;\n",
    "\n",
    "**Dual Typed Defending Pokemon Cases**\n",
    "\n",
    "&nbsp;\n",
    "\n",
    "There are dual-typed Pokemon tables out there but you could use the single type table twice. As an example, an Ice type move to a Grass and Water type would deal normal damage (x1) as we have the multipliers of 2 and 1/2.\n",
    "\n",
    "&nbsp;\n",
    "\n",
    "**Simple Table Observations**\n",
    "\n",
    "&nbsp;\n",
    "\n",
    "* One could use these types of tables to study type matchups for Pokemon selections in certain video games and competitions.\n",
    "\n",
    "* The Steel Type is still a very solid defensive choice as a lot of attacks do half damage to Steel types.\n",
    "\n",
    "* Poison as an attacking type is not very great despite its advantage over the Fairy type.\n",
    "\n",
    "* It is somewhat difficult to pick out the best attacking types. Candidates include Ground, Fire, Ice and Rock types.\n",
    "\n",
    "* The Fairy type is okay for attacking. Its defense is decent as Dark, Fighting and Bug attacks are not very effective versus Fairy types. Dragon attacks have no effect on Fairy types.\n",
    "\n",
    "* Only Steel and Poison moves are super effective versus Fairy.\n",
    "\n",
    "* The Fire type is a good defensive type as well."
   ]
  }
 ],
 "metadata": {
  "kernelspec": {
   "display_name": "R",
   "language": "R",
   "name": "ir"
  },
  "language_info": {
   "codemirror_mode": "r",
   "file_extension": ".r",
   "mimetype": "text/x-r-source",
   "name": "R",
   "pygments_lexer": "r",
   "version": "3.4.1"
  }
 },
 "nbformat": 4,
 "nbformat_minor": 2
}
